{
 "cells": [
  {
   "cell_type": "code",
   "execution_count": 2,
   "metadata": {},
   "outputs": [],
   "source": [
    "# for reading data\n",
    "import pandas as pd\n",
    "import numpy as np\n",
    "from sklearn.preprocessing import LabelEncoder\n",
    "from keras.wrappers.scikit_learn import KerasClassifier\n",
    "from keras.utils import np_utils\n",
    "\n",
    "# for modeling\n",
    "from keras.models import Sequential\n",
    "from keras.layers import Dense, Dropout\n",
    "from keras.callbacks import EarlyStopping\n",
    "from sklearn.model_selection import train_test_split\n",
    "\n",
    "import plotly as plt\n",
    "\n"
   ]
  },
  {
   "cell_type": "markdown",
   "metadata": {},
   "source": [
    "example website\n",
    "https://medium.com/luca-chuangs-bapm-notes/build-a-neural-network-in-python-multi-class-classification-e940f74bd899"
   ]
  },
  {
   "cell_type": "code",
   "execution_count": 3,
   "metadata": {},
   "outputs": [],
   "source": [
    "#read in the data\n",
    "#take input from provisional database (csv)\n",
    "# Load the csv file from GitHub\n",
    "url = 'https://raw.githubusercontent.com/mandymccabe/Final_Project/janet_branch/Data/Final_Project_Full.csv'\n",
    "url2= 'https://raw.githubusercontent.com/mandymccabe/Final_Project/main/Resources/all_responses_coded.csv'\n",
    "df = pd.read_csv(url, index_col=0)\n",
    "df2 = pd.read_csv(url2, index_col=0)"
   ]
  },
  {
   "cell_type": "markdown",
   "metadata": {},
   "source": [
    "Exploratory Analysis"
   ]
  },
  {
   "cell_type": "code",
   "execution_count": 6,
   "metadata": {},
   "outputs": [
    {
     "data": {
      "text/plain": [
       "1021"
      ]
     },
     "execution_count": 6,
     "metadata": {},
     "output_type": "execute_result"
    }
   ],
   "source": [
    "len(df)"
   ]
  },
  {
   "cell_type": "code",
   "execution_count": 7,
   "metadata": {},
   "outputs": [
    {
     "data": {
      "text/plain": [
       "1021"
      ]
     },
     "execution_count": 7,
     "metadata": {},
     "output_type": "execute_result"
    }
   ],
   "source": [
    "len(df2)"
   ]
  },
  {
   "cell_type": "code",
   "execution_count": 15,
   "metadata": {},
   "outputs": [
    {
     "data": {
      "text/plain": [
       "(1021, 23)"
      ]
     },
     "execution_count": 15,
     "metadata": {},
     "output_type": "execute_result"
    }
   ],
   "source": [
    "# number of rows and columns\n",
    "df.shape"
   ]
  },
  {
   "cell_type": "code",
   "execution_count": 16,
   "metadata": {},
   "outputs": [
    {
     "data": {
      "text/plain": [
       "(1021, 65)"
      ]
     },
     "execution_count": 16,
     "metadata": {},
     "output_type": "execute_result"
    }
   ],
   "source": [
    "# number of rows and columns\n",
    "df2.shape"
   ]
  },
  {
   "cell_type": "code",
   "execution_count": 18,
   "metadata": {},
   "outputs": [
    {
     "data": {
      "text/plain": [
       "political_views                   0\n",
       "trust_in_press                    0\n",
       "online_paid_access                0\n",
       "impression_with_access_to_data    0\n",
       "trump_as_president                0\n",
       "age                               0\n",
       "gender                            0\n",
       "income                            0\n",
       "us_region                         0\n",
       "startdate                         0\n",
       "enddate                           0\n",
       "new_york_times                    0\n",
       "wall_street_journal               0\n",
       "usa_today                         0\n",
       "washington_post                   0\n",
       "fox_news                          0\n",
       "breitbart                         0\n",
       "cnn                               0\n",
       "buzzfeed                          0\n",
       "huffington_post                   0\n",
       "time                              0\n",
       "us_news_and_world_report          0\n",
       "other                             0\n",
       "dtype: int64"
      ]
     },
     "execution_count": 18,
     "metadata": {},
     "output_type": "execute_result"
    }
   ],
   "source": [
    "# check for missing data\n",
    "df.isna().sum()"
   ]
  },
  {
   "cell_type": "code",
   "execution_count": 26,
   "metadata": {},
   "outputs": [
    {
     "data": {
      "text/plain": [
       "RespondentID    0\n",
       "A1              0\n",
       "A2              0\n",
       "A3              0\n",
       "A4              0\n",
       "A5              0\n",
       "A6              0\n",
       "A7              0\n",
       "A8              0\n",
       "A9              0\n",
       "A10             0\n",
       "A11             0\n",
       "A12             0\n",
       "A13             0\n",
       "A14             0\n",
       "A15             0\n",
       "A16             0\n",
       "A17             0\n",
       "A18             0\n",
       "A19             0\n",
       "A20             0\n",
       "A21             0\n",
       "A22             0\n",
       "A23             0\n",
       "A24             0\n",
       "A25             0\n",
       "A26             0\n",
       "A27             0\n",
       "A28             0\n",
       "A29             0\n",
       "A30             0\n",
       "A31             0\n",
       "A32             0\n",
       "A33             0\n",
       "A34             0\n",
       "A35             0\n",
       "A36             0\n",
       "A37             0\n",
       "A38             0\n",
       "A39             0\n",
       "A40             0\n",
       "A41             0\n",
       "A42             0\n",
       "A43             0\n",
       "A44             0\n",
       "A45             0\n",
       "A46             0\n",
       "A47             0\n",
       "A48             0\n",
       "A49             0\n",
       "A50             0\n",
       "A51             0\n",
       "A52             0\n",
       "A53             0\n",
       "A54             0\n",
       "A55             0\n",
       "A56             0\n",
       "A57             0\n",
       "A58             0\n",
       "A59             0\n",
       "A60             0\n",
       "A61             0\n",
       "A62             0\n",
       "StartDate       0\n",
       "EndDate         0\n",
       "dtype: int64"
      ]
     },
     "execution_count": 26,
     "metadata": {},
     "output_type": "execute_result"
    }
   ],
   "source": [
    "# check for missing data\n",
    "df2.isna().sum()"
   ]
  },
  {
   "cell_type": "markdown",
   "metadata": {},
   "source": [
    "Analysis Phase"
   ]
  },
  {
   "cell_type": "code",
   "execution_count": 27,
   "metadata": {},
   "outputs": [],
   "source": [
    "clean_df2= df2.drop(['A1','A2','A3','A4','A5','A21','StartDate','EndDate'], axis=1)"
   ]
  },
  {
   "cell_type": "code",
   "execution_count": 18,
   "metadata": {},
   "outputs": [
    {
     "data": {
      "text/html": [
       "<div>\n",
       "<style scoped>\n",
       "    .dataframe tbody tr th:only-of-type {\n",
       "        vertical-align: middle;\n",
       "    }\n",
       "\n",
       "    .dataframe tbody tr th {\n",
       "        vertical-align: top;\n",
       "    }\n",
       "\n",
       "    .dataframe thead th {\n",
       "        text-align: right;\n",
       "    }\n",
       "</style>\n",
       "<table border=\"1\" class=\"dataframe\">\n",
       "  <thead>\n",
       "    <tr style=\"text-align: right;\">\n",
       "      <th></th>\n",
       "      <th>political_views</th>\n",
       "    </tr>\n",
       "    <tr>\n",
       "      <th>respondentid</th>\n",
       "      <th></th>\n",
       "    </tr>\n",
       "  </thead>\n",
       "  <tbody>\n",
       "    <tr>\n",
       "      <th>6176264298</th>\n",
       "      <td>Moderate</td>\n",
       "    </tr>\n",
       "    <tr>\n",
       "      <th>6176263960</th>\n",
       "      <td>Moderate</td>\n",
       "    </tr>\n",
       "    <tr>\n",
       "      <th>6176258621</th>\n",
       "      <td>Liberal</td>\n",
       "    </tr>\n",
       "    <tr>\n",
       "      <th>6176257082</th>\n",
       "      <td>Liberal</td>\n",
       "    </tr>\n",
       "    <tr>\n",
       "      <th>6176256111</th>\n",
       "      <td>Liberal</td>\n",
       "    </tr>\n",
       "  </tbody>\n",
       "</table>\n",
       "</div>"
      ],
      "text/plain": [
       "             political_views\n",
       "respondentid                \n",
       "6176264298          Moderate\n",
       "6176263960          Moderate\n",
       "6176258621           Liberal\n",
       "6176257082           Liberal\n",
       "6176256111           Liberal"
      ]
     },
     "execution_count": 18,
     "metadata": {},
     "output_type": "execute_result"
    }
   ],
   "source": [
    "PoliticalViews = df.filter([\"political_views\"], axis=1)\n",
    "PoliticalViews.head()"
   ]
  },
  {
   "cell_type": "code",
   "execution_count": 19,
   "metadata": {},
   "outputs": [
    {
     "data": {
      "text/html": [
       "<div>\n",
       "<style scoped>\n",
       "    .dataframe tbody tr th:only-of-type {\n",
       "        vertical-align: middle;\n",
       "    }\n",
       "\n",
       "    .dataframe tbody tr th {\n",
       "        vertical-align: top;\n",
       "    }\n",
       "\n",
       "    .dataframe thead th {\n",
       "        text-align: right;\n",
       "    }\n",
       "</style>\n",
       "<table border=\"1\" class=\"dataframe\">\n",
       "  <thead>\n",
       "    <tr style=\"text-align: right;\">\n",
       "      <th></th>\n",
       "      <th>RespondentID</th>\n",
       "      <th>A6</th>\n",
       "      <th>A7</th>\n",
       "      <th>A8</th>\n",
       "      <th>A9</th>\n",
       "      <th>A10</th>\n",
       "      <th>A11</th>\n",
       "      <th>A12</th>\n",
       "      <th>A13</th>\n",
       "      <th>A14</th>\n",
       "      <th>...</th>\n",
       "      <th>A54</th>\n",
       "      <th>A55</th>\n",
       "      <th>A56</th>\n",
       "      <th>A57</th>\n",
       "      <th>A58</th>\n",
       "      <th>A59</th>\n",
       "      <th>A60</th>\n",
       "      <th>A61</th>\n",
       "      <th>A62</th>\n",
       "      <th>political_views</th>\n",
       "    </tr>\n",
       "  </thead>\n",
       "  <tbody>\n",
       "    <tr>\n",
       "      <th>0</th>\n",
       "      <td>6176264298</td>\n",
       "      <td>0</td>\n",
       "      <td>1</td>\n",
       "      <td>0</td>\n",
       "      <td>0</td>\n",
       "      <td>1</td>\n",
       "      <td>0</td>\n",
       "      <td>1</td>\n",
       "      <td>0</td>\n",
       "      <td>0</td>\n",
       "      <td>...</td>\n",
       "      <td>0</td>\n",
       "      <td>0</td>\n",
       "      <td>0</td>\n",
       "      <td>1</td>\n",
       "      <td>0</td>\n",
       "      <td>0</td>\n",
       "      <td>0</td>\n",
       "      <td>0</td>\n",
       "      <td>0</td>\n",
       "      <td>Moderate</td>\n",
       "    </tr>\n",
       "    <tr>\n",
       "      <th>1</th>\n",
       "      <td>6176263960</td>\n",
       "      <td>0</td>\n",
       "      <td>1</td>\n",
       "      <td>0</td>\n",
       "      <td>0</td>\n",
       "      <td>1</td>\n",
       "      <td>0</td>\n",
       "      <td>0</td>\n",
       "      <td>0</td>\n",
       "      <td>0</td>\n",
       "      <td>...</td>\n",
       "      <td>0</td>\n",
       "      <td>0</td>\n",
       "      <td>0</td>\n",
       "      <td>0</td>\n",
       "      <td>0</td>\n",
       "      <td>0</td>\n",
       "      <td>1</td>\n",
       "      <td>0</td>\n",
       "      <td>0</td>\n",
       "      <td>Moderate</td>\n",
       "    </tr>\n",
       "    <tr>\n",
       "      <th>2</th>\n",
       "      <td>6176258621</td>\n",
       "      <td>0</td>\n",
       "      <td>1</td>\n",
       "      <td>0</td>\n",
       "      <td>0</td>\n",
       "      <td>1</td>\n",
       "      <td>0</td>\n",
       "      <td>0</td>\n",
       "      <td>1</td>\n",
       "      <td>0</td>\n",
       "      <td>...</td>\n",
       "      <td>0</td>\n",
       "      <td>0</td>\n",
       "      <td>0</td>\n",
       "      <td>0</td>\n",
       "      <td>0</td>\n",
       "      <td>0</td>\n",
       "      <td>1</td>\n",
       "      <td>0</td>\n",
       "      <td>0</td>\n",
       "      <td>Liberal</td>\n",
       "    </tr>\n",
       "    <tr>\n",
       "      <th>3</th>\n",
       "      <td>6176257082</td>\n",
       "      <td>0</td>\n",
       "      <td>1</td>\n",
       "      <td>0</td>\n",
       "      <td>0</td>\n",
       "      <td>0</td>\n",
       "      <td>0</td>\n",
       "      <td>0</td>\n",
       "      <td>1</td>\n",
       "      <td>0</td>\n",
       "      <td>...</td>\n",
       "      <td>0</td>\n",
       "      <td>1</td>\n",
       "      <td>0</td>\n",
       "      <td>1</td>\n",
       "      <td>0</td>\n",
       "      <td>0</td>\n",
       "      <td>0</td>\n",
       "      <td>0</td>\n",
       "      <td>0</td>\n",
       "      <td>Liberal</td>\n",
       "    </tr>\n",
       "    <tr>\n",
       "      <th>4</th>\n",
       "      <td>6176256111</td>\n",
       "      <td>0</td>\n",
       "      <td>1</td>\n",
       "      <td>0</td>\n",
       "      <td>0</td>\n",
       "      <td>1</td>\n",
       "      <td>1</td>\n",
       "      <td>1</td>\n",
       "      <td>0</td>\n",
       "      <td>0</td>\n",
       "      <td>...</td>\n",
       "      <td>0</td>\n",
       "      <td>0</td>\n",
       "      <td>1</td>\n",
       "      <td>1</td>\n",
       "      <td>0</td>\n",
       "      <td>0</td>\n",
       "      <td>0</td>\n",
       "      <td>0</td>\n",
       "      <td>0</td>\n",
       "      <td>Liberal</td>\n",
       "    </tr>\n",
       "  </tbody>\n",
       "</table>\n",
       "<p>5 rows × 58 columns</p>\n",
       "</div>"
      ],
      "text/plain": [
       "   RespondentID  A6  A7  A8  A9  A10  A11  A12  A13  A14  ...  A54  A55  A56  \\\n",
       "0    6176264298   0   1   0   0    1    0    1    0    0  ...    0    0    0   \n",
       "1    6176263960   0   1   0   0    1    0    0    0    0  ...    0    0    0   \n",
       "2    6176258621   0   1   0   0    1    0    0    1    0  ...    0    0    0   \n",
       "3    6176257082   0   1   0   0    0    0    0    1    0  ...    0    1    0   \n",
       "4    6176256111   0   1   0   0    1    1    1    0    0  ...    0    0    1   \n",
       "\n",
       "   A57  A58  A59  A60  A61  A62  political_views  \n",
       "0    1    0    0    0    0    0         Moderate  \n",
       "1    0    0    0    1    0    0         Moderate  \n",
       "2    0    0    0    1    0    0          Liberal  \n",
       "3    1    0    0    0    0    0          Liberal  \n",
       "4    1    0    0    0    0    0          Liberal  \n",
       "\n",
       "[5 rows x 58 columns]"
      ]
     },
     "execution_count": 19,
     "metadata": {},
     "output_type": "execute_result"
    }
   ],
   "source": [
    "merged_dfs = pd.merge(clean_df2, PoliticalViews, how='outer', left_on=[\"RespondentID\"], right_on=['respondentid'])\n",
    "merged_dfs.head()"
   ]
  },
  {
   "cell_type": "code",
   "execution_count": 81,
   "metadata": {},
   "outputs": [
    {
     "name": "stdout",
     "output_type": "stream",
     "text": [
      "(1021, 56)\n",
      "(1021,)\n"
     ]
    }
   ],
   "source": [
    "# split into X and Y\n",
    "Y = merged_dfs['political_views']\n",
    "X = merged_dfs.drop(['political_views', 'RespondentID'], axis=1)\n",
    "\n",
    "print(X.shape)\n",
    "print(Y.shape)\n",
    "\n",
    "# convert to numpy arrays\n",
    "X = np.array(X)"
   ]
  },
  {
   "cell_type": "code",
   "execution_count": 82,
   "metadata": {},
   "outputs": [
    {
     "data": {
      "text/plain": [
       "0              Moderate\n",
       "1              Moderate\n",
       "2               Liberal\n",
       "3               Liberal\n",
       "4               Liberal\n",
       "5               Liberal\n",
       "6          Conservative\n",
       "7              Moderate\n",
       "8              Moderate\n",
       "9     Very Conservative\n",
       "10             Moderate\n",
       "11             Moderate\n",
       "12         Conservative\n",
       "13             Moderate\n",
       "14             Moderate\n",
       "15              Liberal\n",
       "16              Liberal\n",
       "17         Conservative\n",
       "18             Moderate\n",
       "19         Very Liberal\n",
       "20             Moderate\n",
       "21         Conservative\n",
       "22             Moderate\n",
       "23             Moderate\n",
       "24             Moderate\n",
       "25              Liberal\n",
       "26             Moderate\n",
       "27             Moderate\n",
       "28         Conservative\n",
       "29         Conservative\n",
       "30         Very Liberal\n",
       "31             Moderate\n",
       "32         Conservative\n",
       "33              Liberal\n",
       "34              Liberal\n",
       "35         Conservative\n",
       "36             Moderate\n",
       "37              Liberal\n",
       "38             Moderate\n",
       "39             Moderate\n",
       "40             Moderate\n",
       "41              Liberal\n",
       "42             Moderate\n",
       "43         Very Liberal\n",
       "44              Liberal\n",
       "45             Moderate\n",
       "46             Moderate\n",
       "47         Conservative\n",
       "48         Conservative\n",
       "49         Conservative\n",
       "Name: political_views, dtype: object"
      ]
     },
     "execution_count": 82,
     "metadata": {},
     "output_type": "execute_result"
    }
   ],
   "source": [
    "# show Y\n",
    "Y.head(50)"
   ]
  },
  {
   "cell_type": "code",
   "execution_count": 83,
   "metadata": {},
   "outputs": [],
   "source": [
    "# work with labels\n",
    "# encode class values as integers\n",
    "encoder = LabelEncoder()\n",
    "encoder.fit(Y)\n",
    "encoded_Y = encoder.transform(Y)\n",
    "# convert integers to dummy variables (i.e. one hot encoded)\n",
    "dummy_y = np_utils.to_categorical(encoded_Y)\n",
    "\n"
   ]
  },
  {
   "cell_type": "code",
   "execution_count": 84,
   "metadata": {},
   "outputs": [
    {
     "name": "stdout",
     "output_type": "stream",
     "text": [
      "[2 2 1 ... 2 2 2]\n"
     ]
    }
   ],
   "source": [
    "print(encoded_Y)"
   ]
  },
  {
   "cell_type": "code",
   "execution_count": 85,
   "metadata": {},
   "outputs": [
    {
     "name": "stdout",
     "output_type": "stream",
     "text": [
      "[[0. 0. 1. 0. 0.]\n",
      " [0. 0. 1. 0. 0.]\n",
      " [0. 1. 0. 0. 0.]\n",
      " ...\n",
      " [0. 0. 1. 0. 0.]\n",
      " [0. 0. 1. 0. 0.]\n",
      " [0. 0. 1. 0. 0.]]\n"
     ]
    }
   ],
   "source": [
    "print(dummy_y)"
   ]
  },
  {
   "cell_type": "code",
   "execution_count": 124,
   "metadata": {},
   "outputs": [],
   "source": [
    "#split into training and testing\n",
    "X_train, X_test, y_train, y_test = train_test_split(\n",
    "    X, dummy_y, random_state=3, train_size=0.80)"
   ]
  },
  {
   "cell_type": "code",
   "execution_count": 125,
   "metadata": {},
   "outputs": [],
   "source": [
    "number_inputs= len(X[0])\n",
    "hidden_nodes_1 = 8\n",
    "hidden_nodes_2 =8\n",
    "hidden_nodes_3=8\n"
   ]
  },
  {
   "cell_type": "code",
   "execution_count": 126,
   "metadata": {},
   "outputs": [
    {
     "name": "stdout",
     "output_type": "stream",
     "text": [
      "Model: \"sequential_6\"\n",
      "_________________________________________________________________\n",
      " Layer (type)                Output Shape              Param #   \n",
      "=================================================================\n",
      " dense_14 (Dense)            (None, 8)                 456       \n",
      "                                                                 \n",
      " dense_15 (Dense)            (None, 5)                 45        \n",
      "                                                                 \n",
      "=================================================================\n",
      "Total params: 501\n",
      "Trainable params: 501\n",
      "Non-trainable params: 0\n",
      "_________________________________________________________________\n"
     ]
    }
   ],
   "source": [
    "# build a model\n",
    "model = Sequential()\n",
    "model.add(Dense(units=hidden_nodes_1, activation='relu', input_dim= number_inputs))\n",
    "#model.add(Dense(units=hidden_nodes_2, activation='relu'))\n",
    "#model.add(Dense(units=hidden_nodes_3, activation='relu'))\n",
    "model.add(Dense(5, activation='softmax'))\n",
    "model.summary()"
   ]
  },
  {
   "cell_type": "code",
   "execution_count": null,
   "metadata": {},
   "outputs": [],
   "source": []
  },
  {
   "cell_type": "markdown",
   "metadata": {},
   "source": []
  },
  {
   "cell_type": "code",
   "execution_count": 127,
   "metadata": {},
   "outputs": [],
   "source": [
    "# compile the model\n",
    "model.compile(optimizer='adam', \n",
    "              loss='categorical_crossentropy', # this is different instead of binary_crossentropy (for regular classification)\n",
    "              metrics=['accuracy'])"
   ]
  },
  {
   "cell_type": "code",
   "execution_count": 128,
   "metadata": {},
   "outputs": [],
   "source": [
    "import keras\n",
    "from keras.callbacks import EarlyStopping\n",
    "\n",
    "# early stopping callback\n",
    "# This callback will stop the training when there is no improvement in  \n",
    "# the validation loss for 10 consecutive epochs.  \n",
    "es = keras.callbacks.EarlyStopping(monitor='val_loss', \n",
    "                                   mode='min',\n",
    "                                   patience=10, \n",
    "                                   restore_best_weights=True) # important - otherwise you just return the last weigths...\n",
    "\n"
   ]
  },
  {
   "cell_type": "code",
   "execution_count": 129,
   "metadata": {},
   "outputs": [
    {
     "name": "stdout",
     "output_type": "stream",
     "text": [
      "Epoch 1/100\n",
      "21/21 [==============================] - 4s 101ms/step - loss: 1.6361 - accuracy: 0.1564 - val_loss: 1.5724 - val_accuracy: 0.2561\n",
      "Epoch 2/100\n",
      "21/21 [==============================] - 0s 22ms/step - loss: 1.5627 - accuracy: 0.2408 - val_loss: 1.5139 - val_accuracy: 0.3049\n",
      "Epoch 3/100\n",
      "21/21 [==============================] - 0s 23ms/step - loss: 1.5101 - accuracy: 0.3190 - val_loss: 1.4593 - val_accuracy: 0.3476\n",
      "Epoch 4/100\n",
      "21/21 [==============================] - 0s 24ms/step - loss: 1.4628 - accuracy: 0.3696 - val_loss: 1.4104 - val_accuracy: 0.3720\n",
      "Epoch 5/100\n",
      "21/21 [==============================] - 0s 21ms/step - loss: 1.4228 - accuracy: 0.3957 - val_loss: 1.3703 - val_accuracy: 0.4329\n",
      "Epoch 6/100\n",
      "21/21 [==============================] - 0s 23ms/step - loss: 1.3893 - accuracy: 0.4003 - val_loss: 1.3357 - val_accuracy: 0.4329\n",
      "Epoch 7/100\n",
      "21/21 [==============================] - 1s 26ms/step - loss: 1.3585 - accuracy: 0.4187 - val_loss: 1.3043 - val_accuracy: 0.4390\n",
      "Epoch 8/100\n",
      "21/21 [==============================] - 0s 22ms/step - loss: 1.3288 - accuracy: 0.4325 - val_loss: 1.2772 - val_accuracy: 0.4146\n",
      "Epoch 9/100\n",
      "21/21 [==============================] - 0s 22ms/step - loss: 1.3016 - accuracy: 0.4356 - val_loss: 1.2517 - val_accuracy: 0.4390\n",
      "Epoch 10/100\n",
      "21/21 [==============================] - 1s 25ms/step - loss: 1.2779 - accuracy: 0.4448 - val_loss: 1.2317 - val_accuracy: 0.4390\n",
      "Epoch 11/100\n",
      "21/21 [==============================] - 1s 29ms/step - loss: 1.2573 - accuracy: 0.4494 - val_loss: 1.2156 - val_accuracy: 0.4451\n",
      "Epoch 12/100\n",
      "21/21 [==============================] - 0s 21ms/step - loss: 1.2397 - accuracy: 0.4540 - val_loss: 1.1985 - val_accuracy: 0.4512\n",
      "Epoch 13/100\n",
      "21/21 [==============================] - 0s 18ms/step - loss: 1.2235 - accuracy: 0.4647 - val_loss: 1.1869 - val_accuracy: 0.4695\n",
      "Epoch 14/100\n",
      "21/21 [==============================] - 0s 18ms/step - loss: 1.2096 - accuracy: 0.4785 - val_loss: 1.1779 - val_accuracy: 0.4695\n",
      "Epoch 15/100\n",
      "21/21 [==============================] - 1s 24ms/step - loss: 1.1970 - accuracy: 0.4816 - val_loss: 1.1690 - val_accuracy: 0.4695\n",
      "Epoch 16/100\n",
      "21/21 [==============================] - 0s 19ms/step - loss: 1.1865 - accuracy: 0.4862 - val_loss: 1.1602 - val_accuracy: 0.4634\n",
      "Epoch 17/100\n",
      "21/21 [==============================] - 1s 39ms/step - loss: 1.1756 - accuracy: 0.4923 - val_loss: 1.1541 - val_accuracy: 0.4756\n",
      "Epoch 18/100\n",
      "21/21 [==============================] - 1s 41ms/step - loss: 1.1662 - accuracy: 0.4923 - val_loss: 1.1470 - val_accuracy: 0.4634\n",
      "Epoch 19/100\n",
      "21/21 [==============================] - 1s 39ms/step - loss: 1.1566 - accuracy: 0.4969 - val_loss: 1.1433 - val_accuracy: 0.4756\n",
      "Epoch 20/100\n",
      "21/21 [==============================] - 1s 33ms/step - loss: 1.1494 - accuracy: 0.5031 - val_loss: 1.1396 - val_accuracy: 0.4695\n",
      "Epoch 21/100\n",
      "21/21 [==============================] - 1s 28ms/step - loss: 1.1408 - accuracy: 0.4985 - val_loss: 1.1338 - val_accuracy: 0.4878\n",
      "Epoch 22/100\n",
      "21/21 [==============================] - 1s 34ms/step - loss: 1.1333 - accuracy: 0.5092 - val_loss: 1.1273 - val_accuracy: 0.5061\n",
      "Epoch 23/100\n",
      "21/21 [==============================] - 1s 42ms/step - loss: 1.1269 - accuracy: 0.5061 - val_loss: 1.1246 - val_accuracy: 0.4817\n",
      "Epoch 24/100\n",
      "21/21 [==============================] - 1s 27ms/step - loss: 1.1199 - accuracy: 0.5061 - val_loss: 1.1198 - val_accuracy: 0.5000\n",
      "Epoch 25/100\n",
      "21/21 [==============================] - 0s 23ms/step - loss: 1.1129 - accuracy: 0.5061 - val_loss: 1.1179 - val_accuracy: 0.4939\n",
      "Epoch 26/100\n",
      "21/21 [==============================] - 1s 27ms/step - loss: 1.1069 - accuracy: 0.5245 - val_loss: 1.1172 - val_accuracy: 0.4878\n",
      "Epoch 27/100\n",
      "21/21 [==============================] - 1s 27ms/step - loss: 1.1002 - accuracy: 0.5199 - val_loss: 1.1139 - val_accuracy: 0.4878\n",
      "Epoch 28/100\n",
      "21/21 [==============================] - 1s 27ms/step - loss: 1.0941 - accuracy: 0.5307 - val_loss: 1.1141 - val_accuracy: 0.4878\n",
      "Epoch 29/100\n",
      "21/21 [==============================] - 1s 26ms/step - loss: 1.0889 - accuracy: 0.5245 - val_loss: 1.1148 - val_accuracy: 0.4695\n",
      "Epoch 30/100\n",
      "21/21 [==============================] - 1s 34ms/step - loss: 1.0849 - accuracy: 0.5138 - val_loss: 1.1134 - val_accuracy: 0.4756\n",
      "Epoch 31/100\n",
      "21/21 [==============================] - 1s 25ms/step - loss: 1.0788 - accuracy: 0.5230 - val_loss: 1.1130 - val_accuracy: 0.4817\n",
      "Epoch 32/100\n",
      "21/21 [==============================] - 1s 26ms/step - loss: 1.0745 - accuracy: 0.5307 - val_loss: 1.1130 - val_accuracy: 0.4512\n",
      "Epoch 33/100\n",
      "21/21 [==============================] - 0s 24ms/step - loss: 1.0701 - accuracy: 0.5261 - val_loss: 1.1124 - val_accuracy: 0.4573\n",
      "Epoch 34/100\n",
      "21/21 [==============================] - 1s 31ms/step - loss: 1.0653 - accuracy: 0.5307 - val_loss: 1.1135 - val_accuracy: 0.4512\n",
      "Epoch 35/100\n",
      "21/21 [==============================] - 1s 27ms/step - loss: 1.0611 - accuracy: 0.5337 - val_loss: 1.1147 - val_accuracy: 0.4573\n",
      "Epoch 36/100\n",
      "21/21 [==============================] - 1s 31ms/step - loss: 1.0570 - accuracy: 0.5291 - val_loss: 1.1134 - val_accuracy: 0.4512\n",
      "Epoch 37/100\n",
      "21/21 [==============================] - 1s 28ms/step - loss: 1.0531 - accuracy: 0.5414 - val_loss: 1.1136 - val_accuracy: 0.4451\n",
      "Epoch 38/100\n",
      "21/21 [==============================] - 0s 17ms/step - loss: 1.0498 - accuracy: 0.5368 - val_loss: 1.1151 - val_accuracy: 0.4573\n",
      "Epoch 39/100\n",
      "21/21 [==============================] - 0s 24ms/step - loss: 1.0455 - accuracy: 0.5460 - val_loss: 1.1154 - val_accuracy: 0.4634\n",
      "Epoch 40/100\n",
      "21/21 [==============================] - 1s 31ms/step - loss: 1.0425 - accuracy: 0.5475 - val_loss: 1.1213 - val_accuracy: 0.4634\n",
      "Epoch 41/100\n",
      "21/21 [==============================] - 1s 28ms/step - loss: 1.0376 - accuracy: 0.5537 - val_loss: 1.1169 - val_accuracy: 0.4634\n",
      "Epoch 42/100\n",
      "21/21 [==============================] - 0s 20ms/step - loss: 1.0355 - accuracy: 0.5598 - val_loss: 1.1199 - val_accuracy: 0.4573\n",
      "Epoch 43/100\n",
      "21/21 [==============================] - 0s 18ms/step - loss: 1.0319 - accuracy: 0.5675 - val_loss: 1.1244 - val_accuracy: 0.4573\n",
      "Epoch 44/100\n",
      "21/21 [==============================] - 0s 22ms/step - loss: 1.0290 - accuracy: 0.5598 - val_loss: 1.1244 - val_accuracy: 0.4573\n",
      "Epoch 45/100\n",
      "21/21 [==============================] - 0s 20ms/step - loss: 1.0252 - accuracy: 0.5690 - val_loss: 1.1251 - val_accuracy: 0.4634\n",
      "Epoch 46/100\n",
      "21/21 [==============================] - 0s 13ms/step - loss: 1.0225 - accuracy: 0.5690 - val_loss: 1.1252 - val_accuracy: 0.4634\n",
      "Epoch 47/100\n",
      "21/21 [==============================] - 0s 15ms/step - loss: 1.0189 - accuracy: 0.5690 - val_loss: 1.1259 - val_accuracy: 0.4634\n",
      "Epoch 48/100\n",
      "21/21 [==============================] - 1s 30ms/step - loss: 1.0180 - accuracy: 0.5675 - val_loss: 1.1283 - val_accuracy: 0.4695\n",
      "Epoch 49/100\n",
      "21/21 [==============================] - 0s 17ms/step - loss: 1.0155 - accuracy: 0.5675 - val_loss: 1.1254 - val_accuracy: 0.4695\n",
      "Epoch 50/100\n",
      "21/21 [==============================] - 0s 11ms/step - loss: 1.0118 - accuracy: 0.5690 - val_loss: 1.1326 - val_accuracy: 0.4756\n",
      "Epoch 51/100\n",
      "21/21 [==============================] - 0s 11ms/step - loss: 1.0087 - accuracy: 0.5706 - val_loss: 1.1336 - val_accuracy: 0.4817\n",
      "Epoch 52/100\n",
      "21/21 [==============================] - 0s 13ms/step - loss: 1.0066 - accuracy: 0.5752 - val_loss: 1.1319 - val_accuracy: 0.4634\n",
      "Epoch 53/100\n",
      "21/21 [==============================] - 1s 28ms/step - loss: 1.0035 - accuracy: 0.5767 - val_loss: 1.1345 - val_accuracy: 0.4695\n",
      "Epoch 54/100\n",
      "21/21 [==============================] - 0s 19ms/step - loss: 1.0018 - accuracy: 0.5767 - val_loss: 1.1334 - val_accuracy: 0.4756\n",
      "Epoch 55/100\n",
      "21/21 [==============================] - 0s 8ms/step - loss: 1.0004 - accuracy: 0.5828 - val_loss: 1.1329 - val_accuracy: 0.4878\n",
      "Epoch 56/100\n",
      "21/21 [==============================] - 0s 10ms/step - loss: 0.9968 - accuracy: 0.5782 - val_loss: 1.1366 - val_accuracy: 0.4756\n",
      "Epoch 57/100\n",
      "21/21 [==============================] - 0s 10ms/step - loss: 0.9943 - accuracy: 0.5767 - val_loss: 1.1389 - val_accuracy: 0.4634\n",
      "Epoch 58/100\n",
      "21/21 [==============================] - 0s 7ms/step - loss: 0.9919 - accuracy: 0.5813 - val_loss: 1.1393 - val_accuracy: 0.4695\n",
      "Epoch 59/100\n",
      "21/21 [==============================] - 0s 9ms/step - loss: 0.9909 - accuracy: 0.5782 - val_loss: 1.1431 - val_accuracy: 0.4817\n",
      "Epoch 60/100\n",
      "21/21 [==============================] - 0s 7ms/step - loss: 0.9872 - accuracy: 0.5813 - val_loss: 1.1432 - val_accuracy: 0.4695\n",
      "Epoch 61/100\n",
      "21/21 [==============================] - 0s 8ms/step - loss: 0.9862 - accuracy: 0.5813 - val_loss: 1.1419 - val_accuracy: 0.4756\n",
      "Epoch 62/100\n",
      "21/21 [==============================] - 0s 6ms/step - loss: 0.9858 - accuracy: 0.5752 - val_loss: 1.1423 - val_accuracy: 0.4817\n",
      "Epoch 63/100\n",
      "21/21 [==============================] - 0s 8ms/step - loss: 0.9817 - accuracy: 0.5920 - val_loss: 1.1484 - val_accuracy: 0.4695\n",
      "Epoch 64/100\n",
      "21/21 [==============================] - 0s 8ms/step - loss: 0.9797 - accuracy: 0.5859 - val_loss: 1.1464 - val_accuracy: 0.4756\n",
      "Epoch 65/100\n",
      "21/21 [==============================] - 0s 9ms/step - loss: 0.9788 - accuracy: 0.5844 - val_loss: 1.1475 - val_accuracy: 0.4756\n",
      "Epoch 66/100\n",
      "21/21 [==============================] - 0s 7ms/step - loss: 0.9765 - accuracy: 0.5767 - val_loss: 1.1494 - val_accuracy: 0.4756\n",
      "Epoch 67/100\n",
      "21/21 [==============================] - 0s 8ms/step - loss: 0.9747 - accuracy: 0.5905 - val_loss: 1.1496 - val_accuracy: 0.4878\n",
      "Epoch 68/100\n",
      "21/21 [==============================] - 0s 7ms/step - loss: 0.9724 - accuracy: 0.5859 - val_loss: 1.1515 - val_accuracy: 0.4817\n",
      "Epoch 69/100\n",
      "21/21 [==============================] - 0s 7ms/step - loss: 0.9719 - accuracy: 0.5782 - val_loss: 1.1548 - val_accuracy: 0.4817\n",
      "Epoch 70/100\n",
      "21/21 [==============================] - 0s 6ms/step - loss: 0.9683 - accuracy: 0.5828 - val_loss: 1.1565 - val_accuracy: 0.4817\n",
      "Epoch 71/100\n",
      "21/21 [==============================] - 0s 15ms/step - loss: 0.9669 - accuracy: 0.5844 - val_loss: 1.1552 - val_accuracy: 0.4878\n",
      "Epoch 72/100\n",
      "21/21 [==============================] - 0s 14ms/step - loss: 0.9646 - accuracy: 0.5920 - val_loss: 1.1598 - val_accuracy: 0.4878\n",
      "Epoch 73/100\n",
      "21/21 [==============================] - 0s 10ms/step - loss: 0.9633 - accuracy: 0.5890 - val_loss: 1.1578 - val_accuracy: 0.4939\n",
      "Epoch 74/100\n",
      "21/21 [==============================] - 0s 7ms/step - loss: 0.9622 - accuracy: 0.5966 - val_loss: 1.1628 - val_accuracy: 0.4878\n",
      "Epoch 75/100\n",
      "21/21 [==============================] - 0s 7ms/step - loss: 0.9605 - accuracy: 0.5951 - val_loss: 1.1604 - val_accuracy: 0.4939\n",
      "Epoch 76/100\n",
      "21/21 [==============================] - 0s 7ms/step - loss: 0.9576 - accuracy: 0.5951 - val_loss: 1.1646 - val_accuracy: 0.4878\n",
      "Epoch 77/100\n",
      "21/21 [==============================] - 0s 7ms/step - loss: 0.9561 - accuracy: 0.6028 - val_loss: 1.1660 - val_accuracy: 0.4939\n",
      "Epoch 78/100\n",
      "21/21 [==============================] - 0s 7ms/step - loss: 0.9543 - accuracy: 0.6058 - val_loss: 1.1672 - val_accuracy: 0.4939\n",
      "Epoch 79/100\n",
      "21/21 [==============================] - 0s 7ms/step - loss: 0.9529 - accuracy: 0.6028 - val_loss: 1.1668 - val_accuracy: 0.4939\n",
      "Epoch 80/100\n",
      "21/21 [==============================] - 0s 6ms/step - loss: 0.9511 - accuracy: 0.6028 - val_loss: 1.1695 - val_accuracy: 0.4878\n",
      "Epoch 81/100\n",
      "21/21 [==============================] - 0s 6ms/step - loss: 0.9502 - accuracy: 0.6028 - val_loss: 1.1680 - val_accuracy: 0.4939\n",
      "Epoch 82/100\n",
      "21/21 [==============================] - 0s 6ms/step - loss: 0.9476 - accuracy: 0.6028 - val_loss: 1.1697 - val_accuracy: 0.4878\n",
      "Epoch 83/100\n",
      "21/21 [==============================] - 0s 7ms/step - loss: 0.9462 - accuracy: 0.6028 - val_loss: 1.1753 - val_accuracy: 0.4878\n",
      "Epoch 84/100\n",
      "21/21 [==============================] - 0s 14ms/step - loss: 0.9454 - accuracy: 0.5966 - val_loss: 1.1746 - val_accuracy: 0.4939\n",
      "Epoch 85/100\n",
      "21/21 [==============================] - 0s 9ms/step - loss: 0.9425 - accuracy: 0.6028 - val_loss: 1.1755 - val_accuracy: 0.4939\n",
      "Epoch 86/100\n",
      "21/21 [==============================] - 0s 9ms/step - loss: 0.9422 - accuracy: 0.6135 - val_loss: 1.1798 - val_accuracy: 0.4878\n",
      "Epoch 87/100\n",
      "21/21 [==============================] - 0s 8ms/step - loss: 0.9399 - accuracy: 0.6135 - val_loss: 1.1754 - val_accuracy: 0.4878\n",
      "Epoch 88/100\n",
      "21/21 [==============================] - 0s 23ms/step - loss: 0.9383 - accuracy: 0.6058 - val_loss: 1.1794 - val_accuracy: 0.4878\n",
      "Epoch 89/100\n",
      "21/21 [==============================] - 0s 15ms/step - loss: 0.9377 - accuracy: 0.6043 - val_loss: 1.1809 - val_accuracy: 0.4878\n",
      "Epoch 90/100\n",
      "21/21 [==============================] - 0s 10ms/step - loss: 0.9352 - accuracy: 0.6135 - val_loss: 1.1844 - val_accuracy: 0.4878\n",
      "Epoch 91/100\n",
      "21/21 [==============================] - 1s 27ms/step - loss: 0.9333 - accuracy: 0.6104 - val_loss: 1.1816 - val_accuracy: 0.4817\n",
      "Epoch 92/100\n",
      "21/21 [==============================] - 0s 8ms/step - loss: 0.9331 - accuracy: 0.6012 - val_loss: 1.1856 - val_accuracy: 0.4878\n",
      "Epoch 93/100\n",
      "21/21 [==============================] - 0s 9ms/step - loss: 0.9296 - accuracy: 0.6166 - val_loss: 1.1889 - val_accuracy: 0.4939\n",
      "Epoch 94/100\n",
      "21/21 [==============================] - 0s 8ms/step - loss: 0.9288 - accuracy: 0.6135 - val_loss: 1.1906 - val_accuracy: 0.4939\n",
      "Epoch 95/100\n",
      "21/21 [==============================] - 0s 24ms/step - loss: 0.9282 - accuracy: 0.6104 - val_loss: 1.1897 - val_accuracy: 0.4756\n",
      "Epoch 96/100\n",
      "21/21 [==============================] - 0s 21ms/step - loss: 0.9264 - accuracy: 0.6120 - val_loss: 1.1946 - val_accuracy: 0.4939\n",
      "Epoch 97/100\n",
      "21/21 [==============================] - 0s 10ms/step - loss: 0.9245 - accuracy: 0.6150 - val_loss: 1.1968 - val_accuracy: 0.4817\n",
      "Epoch 98/100\n",
      "21/21 [==============================] - 0s 9ms/step - loss: 0.9229 - accuracy: 0.6135 - val_loss: 1.1960 - val_accuracy: 0.4817\n",
      "Epoch 99/100\n",
      "21/21 [==============================] - 0s 17ms/step - loss: 0.9207 - accuracy: 0.6135 - val_loss: 1.1957 - val_accuracy: 0.4756\n",
      "Epoch 100/100\n",
      "21/21 [==============================] - 0s 8ms/step - loss: 0.9192 - accuracy: 0.6135 - val_loss: 1.1989 - val_accuracy: 0.4878\n"
     ]
    }
   ],
   "source": [
    "# now we just update our model fit call\n",
    "history = model.fit(X_train,\n",
    "                    y_train,\n",
    "                    epochs=100, \n",
    "                    \n",
    "                   \n",
    "                    #batch_size=10,\n",
    "                    #shuffle=True,\n",
    "                    validation_split=0.2)\n",
    "                    #verbose=1\n",
    "                    #callbacks=[es],"
   ]
  },
  {
   "cell_type": "code",
   "execution_count": 107,
   "metadata": {},
   "outputs": [],
   "source": [
    "\n",
    "history_dict = history.history\n",
    "\n",
    "# learning curve\n",
    "# accuracy\n",
    "acc = history_dict['accuracy']\n",
    "val_acc = history_dict['val_accuracy']\n"
   ]
  },
  {
   "cell_type": "code",
   "execution_count": 108,
   "metadata": {},
   "outputs": [
    {
     "data": {
      "text/plain": [
       "[0.09313725680112839,\n",
       " 0.17401960492134094,\n",
       " 0.26838234066963196,\n",
       " 0.3321078419685364,\n",
       " 0.3958333432674408,\n",
       " 0.41911765933036804,\n",
       " 0.43995097279548645,\n",
       " 0.44117647409439087,\n",
       " 0.45588234066963196,\n",
       " 0.4583333432674408,\n",
       " 0.468137264251709,\n",
       " 0.4730392098426819,\n",
       " 0.48161765933036804,\n",
       " 0.49142158031463623,\n",
       " 0.48774510622024536,\n",
       " 0.4950980246067047,\n",
       " 0.49754902720451355,\n",
       " 0.5036764740943909,\n",
       " 0.5122548937797546,\n",
       " 0.5061274766921997,\n",
       " 0.5122548937797546,\n",
       " 0.5085784196853638,\n",
       " 0.5098039507865906,\n",
       " 0.5110294222831726,\n",
       " 0.5134803652763367,\n",
       " 0.5147058963775635,\n",
       " 0.5183823704719543,\n",
       " 0.5196078419685364,\n",
       " 0.5171568393707275,\n",
       " 0.529411792755127,\n",
       " 0.5245097875595093,\n",
       " 0.5232843160629272,\n",
       " 0.529411792755127,\n",
       " 0.5257353186607361,\n",
       " 0.531862735748291,\n",
       " 0.5343137383460999,\n",
       " 0.533088207244873,\n",
       " 0.5416666865348816,\n",
       " 0.5343137383460999,\n",
       " 0.5392156839370728,\n",
       " 0.5428921580314636,\n",
       " 0.5404411554336548,\n",
       " 0.5428921580314636,\n",
       " 0.5465686321258545,\n",
       " 0.5477941036224365,\n",
       " 0.5490196347236633,\n",
       " 0.5477941036224365,\n",
       " 0.5539215803146362,\n",
       " 0.5539215803146362,\n",
       " 0.5575980544090271,\n",
       " 0.5514705777168274,\n",
       " 0.5575980544090271,\n",
       " 0.5526960492134094,\n",
       " 0.5575980544090271,\n",
       " 0.5600489974021912,\n",
       " 0.5490196347236633,\n",
       " 0.5575980544090271,\n",
       " 0.5625,\n",
       " 0.5575980544090271,\n",
       " 0.5588235259056091,\n",
       " 0.5600489974021912,\n",
       " 0.561274528503418,\n",
       " 0.561274528503418,\n",
       " 0.5625,\n",
       " 0.5625,\n",
       " 0.5674019455909729,\n",
       " 0.5600489974021912,\n",
       " 0.561274528503418,\n",
       " 0.5759803652763367,\n",
       " 0.563725471496582,\n",
       " 0.5735294222831726,\n",
       " 0.5759803652763367,\n",
       " 0.5710784196853638,\n",
       " 0.5698529481887817,\n",
       " 0.5710784196853638,\n",
       " 0.5784313678741455,\n",
       " 0.5821078419685364,\n",
       " 0.5772058963775635,\n",
       " 0.5857843160629272,\n",
       " 0.593137264251709,\n",
       " 0.5870097875595093,\n",
       " 0.5980392098426819,\n",
       " 0.591911792755127,\n",
       " 0.5906862616539001,\n",
       " 0.594362735748291,\n",
       " 0.5894607901573181,\n",
       " 0.591911792755127,\n",
       " 0.6004902124404907,\n",
       " 0.595588207244873,\n",
       " 0.594362735748291,\n",
       " 0.6041666865348816,\n",
       " 0.595588207244873,\n",
       " 0.6017156839370728,\n",
       " 0.6029411554336548,\n",
       " 0.5968137383460999,\n",
       " 0.6004902124404907,\n",
       " 0.6053921580314636,\n",
       " 0.5992646813392639,\n",
       " 0.6053921580314636,\n",
       " 0.6053921580314636]"
      ]
     },
     "execution_count": 108,
     "metadata": {},
     "output_type": "execute_result"
    }
   ],
   "source": [
    "acc"
   ]
  },
  {
   "cell_type": "code",
   "execution_count": 109,
   "metadata": {},
   "outputs": [
    {
     "data": {
      "text/plain": [
       "[0.12195122241973877,\n",
       " 0.2780487835407257,\n",
       " 0.3073170781135559,\n",
       " 0.3804877996444702,\n",
       " 0.43414634466171265,\n",
       " 0.46341463923454285,\n",
       " 0.44878047704696655,\n",
       " 0.4829268157482147,\n",
       " 0.4878048896789551,\n",
       " 0.502439022064209,\n",
       " 0.49268293380737305,\n",
       " 0.507317066192627,\n",
       " 0.4878048896789551,\n",
       " 0.4829268157482147,\n",
       " 0.4829268157482147,\n",
       " 0.47804877161979675,\n",
       " 0.4682926833629608,\n",
       " 0.46341463923454285,\n",
       " 0.47804877161979675,\n",
       " 0.4829268157482147,\n",
       " 0.47804877161979675,\n",
       " 0.4829268157482147,\n",
       " 0.4878048896789551,\n",
       " 0.4829268157482147,\n",
       " 0.4878048896789551,\n",
       " 0.497560977935791,\n",
       " 0.4878048896789551,\n",
       " 0.47804877161979675,\n",
       " 0.4585365951061249,\n",
       " 0.46341463923454285,\n",
       " 0.47804877161979675,\n",
       " 0.4731707274913788,\n",
       " 0.4682926833629608,\n",
       " 0.4878048896789551,\n",
       " 0.4878048896789551,\n",
       " 0.47804877161979675,\n",
       " 0.47804877161979675,\n",
       " 0.4829268157482147,\n",
       " 0.4682926833629608,\n",
       " 0.4829268157482147,\n",
       " 0.4878048896789551,\n",
       " 0.49268293380737305,\n",
       " 0.4829268157482147,\n",
       " 0.497560977935791,\n",
       " 0.4878048896789551,\n",
       " 0.49268293380737305,\n",
       " 0.4878048896789551,\n",
       " 0.49268293380737305,\n",
       " 0.497560977935791,\n",
       " 0.49268293380737305,\n",
       " 0.497560977935791,\n",
       " 0.49268293380737305,\n",
       " 0.4878048896789551,\n",
       " 0.4878048896789551,\n",
       " 0.4878048896789551,\n",
       " 0.4878048896789551,\n",
       " 0.4878048896789551,\n",
       " 0.4878048896789551,\n",
       " 0.47804877161979675,\n",
       " 0.49268293380737305,\n",
       " 0.4829268157482147,\n",
       " 0.47804877161979675,\n",
       " 0.4731707274913788,\n",
       " 0.4878048896789551,\n",
       " 0.47804877161979675,\n",
       " 0.4829268157482147,\n",
       " 0.47804877161979675,\n",
       " 0.4829268157482147,\n",
       " 0.4878048896789551,\n",
       " 0.4829268157482147,\n",
       " 0.4829268157482147,\n",
       " 0.4829268157482147,\n",
       " 0.4829268157482147,\n",
       " 0.4829268157482147,\n",
       " 0.4829268157482147,\n",
       " 0.4731707274913788,\n",
       " 0.4731707274913788,\n",
       " 0.49268293380737305,\n",
       " 0.4829268157482147,\n",
       " 0.4731707274913788,\n",
       " 0.4682926833629608,\n",
       " 0.47804877161979675,\n",
       " 0.4829268157482147,\n",
       " 0.46341463923454285,\n",
       " 0.4829268157482147,\n",
       " 0.46341463923454285,\n",
       " 0.4731707274913788,\n",
       " 0.47804877161979675,\n",
       " 0.46341463923454285,\n",
       " 0.4731707274913788,\n",
       " 0.4585365951061249,\n",
       " 0.4536585509777069,\n",
       " 0.4585365951061249,\n",
       " 0.46341463923454285,\n",
       " 0.4682926833629608,\n",
       " 0.46341463923454285,\n",
       " 0.4682926833629608,\n",
       " 0.4731707274913788,\n",
       " 0.4682926833629608,\n",
       " 0.4585365951061249]"
      ]
     },
     "execution_count": 109,
     "metadata": {},
     "output_type": "execute_result"
    }
   ],
   "source": [
    "val_acc"
   ]
  },
  {
   "cell_type": "code",
   "execution_count": 110,
   "metadata": {},
   "outputs": [],
   "source": [
    "# loss\n",
    "loss = history_dict['loss']\n",
    "val_loss = history_dict['val_loss']\n"
   ]
  },
  {
   "cell_type": "code",
   "execution_count": 111,
   "metadata": {},
   "outputs": [
    {
     "data": {
      "text/plain": [
       "[1.795781135559082,\n",
       " 1.6715991497039795,\n",
       " 1.6056666374206543,\n",
       " 1.5600543022155762,\n",
       " 1.516451358795166,\n",
       " 1.4713692665100098,\n",
       " 1.4247808456420898,\n",
       " 1.3797229528427124,\n",
       " 1.3410789966583252,\n",
       " 1.308462142944336,\n",
       " 1.2808786630630493,\n",
       " 1.2572420835494995,\n",
       " 1.2369824647903442,\n",
       " 1.2192777395248413,\n",
       " 1.204612374305725,\n",
       " 1.1910240650177002,\n",
       " 1.179001808166504,\n",
       " 1.1686663627624512,\n",
       " 1.1593396663665771,\n",
       " 1.1498485803604126,\n",
       " 1.1415613889694214,\n",
       " 1.1342507600784302,\n",
       " 1.1287453174591064,\n",
       " 1.1223556995391846,\n",
       " 1.1152454614639282,\n",
       " 1.1111047267913818,\n",
       " 1.1048023700714111,\n",
       " 1.099231243133545,\n",
       " 1.0950183868408203,\n",
       " 1.0911133289337158,\n",
       " 1.0877885818481445,\n",
       " 1.0818811655044556,\n",
       " 1.0784595012664795,\n",
       " 1.073861002922058,\n",
       " 1.0718730688095093,\n",
       " 1.0670161247253418,\n",
       " 1.0648720264434814,\n",
       " 1.061124563217163,\n",
       " 1.0576692819595337,\n",
       " 1.0552257299423218,\n",
       " 1.0518981218338013,\n",
       " 1.0491769313812256,\n",
       " 1.046646237373352,\n",
       " 1.0463069677352905,\n",
       " 1.0411545038223267,\n",
       " 1.0387628078460693,\n",
       " 1.0366487503051758,\n",
       " 1.0342061519622803,\n",
       " 1.0311702489852905,\n",
       " 1.0289976596832275,\n",
       " 1.0270516872406006,\n",
       " 1.0244324207305908,\n",
       " 1.0229350328445435,\n",
       " 1.0196925401687622,\n",
       " 1.0173311233520508,\n",
       " 1.0159845352172852,\n",
       " 1.0143461227416992,\n",
       " 1.0149818658828735,\n",
       " 1.0103652477264404,\n",
       " 1.0080872774124146,\n",
       " 1.0058542490005493,\n",
       " 1.0039613246917725,\n",
       " 1.0019055604934692,\n",
       " 1.000165343284607,\n",
       " 0.9979633092880249,\n",
       " 0.995273768901825,\n",
       " 0.994780421257019,\n",
       " 0.9916331171989441,\n",
       " 0.9904925227165222,\n",
       " 0.9913721084594727,\n",
       " 0.9901052713394165,\n",
       " 0.984779417514801,\n",
       " 0.9834327697753906,\n",
       " 0.9814893007278442,\n",
       " 0.9789274334907532,\n",
       " 0.9784619212150574,\n",
       " 0.9754958748817444,\n",
       " 0.9746372103691101,\n",
       " 0.9722037315368652,\n",
       " 0.9710027575492859,\n",
       " 0.9688389301300049,\n",
       " 0.9684106707572937,\n",
       " 0.9666431546211243,\n",
       " 0.9655595421791077,\n",
       " 0.963794469833374,\n",
       " 0.9622200131416321,\n",
       " 0.960211455821991,\n",
       " 0.9595792293548584,\n",
       " 0.9595068097114563,\n",
       " 0.9569793343544006,\n",
       " 0.9554194808006287,\n",
       " 0.9557858109474182,\n",
       " 0.9536455869674683,\n",
       " 0.9514060020446777,\n",
       " 0.9521690011024475,\n",
       " 0.950001060962677,\n",
       " 0.9473680853843689,\n",
       " 0.946333110332489,\n",
       " 0.9458868503570557,\n",
       " 0.9446021914482117]"
      ]
     },
     "execution_count": 111,
     "metadata": {},
     "output_type": "execute_result"
    }
   ],
   "source": [
    "loss"
   ]
  },
  {
   "cell_type": "code",
   "execution_count": 112,
   "metadata": {},
   "outputs": [
    {
     "data": {
      "text/plain": [
       "[1.6965566873550415,\n",
       " 1.6145786046981812,\n",
       " 1.5635448694229126,\n",
       " 1.5219385623931885,\n",
       " 1.4816088676452637,\n",
       " 1.437052845954895,\n",
       " 1.3950992822647095,\n",
       " 1.3583325147628784,\n",
       " 1.3265403509140015,\n",
       " 1.301108479499817,\n",
       " 1.2823749780654907,\n",
       " 1.2657420635223389,\n",
       " 1.2537750005722046,\n",
       " 1.2437067031860352,\n",
       " 1.2339812517166138,\n",
       " 1.2262667417526245,\n",
       " 1.2190719842910767,\n",
       " 1.2130768299102783,\n",
       " 1.2075690031051636,\n",
       " 1.2030638456344604,\n",
       " 1.199558138847351,\n",
       " 1.196015477180481,\n",
       " 1.1940054893493652,\n",
       " 1.1914921998977661,\n",
       " 1.1875858306884766,\n",
       " 1.1852315664291382,\n",
       " 1.184106469154358,\n",
       " 1.182012915611267,\n",
       " 1.180153489112854,\n",
       " 1.1808751821517944,\n",
       " 1.1782324314117432,\n",
       " 1.1778852939605713,\n",
       " 1.1774616241455078,\n",
       " 1.1768954992294312,\n",
       " 1.1758064031600952,\n",
       " 1.1760915517807007,\n",
       " 1.1761428117752075,\n",
       " 1.1761703491210938,\n",
       " 1.1764051914215088,\n",
       " 1.1764177083969116,\n",
       " 1.1774184703826904,\n",
       " 1.1770682334899902,\n",
       " 1.177207589149475,\n",
       " 1.1766109466552734,\n",
       " 1.1787484884262085,\n",
       " 1.1792142391204834,\n",
       " 1.1797361373901367,\n",
       " 1.1809182167053223,\n",
       " 1.1805793046951294,\n",
       " 1.181302547454834,\n",
       " 1.182503581047058,\n",
       " 1.1830679178237915,\n",
       " 1.184239387512207,\n",
       " 1.1851272583007812,\n",
       " 1.186269760131836,\n",
       " 1.1869663000106812,\n",
       " 1.1887677907943726,\n",
       " 1.1891758441925049,\n",
       " 1.1903834342956543,\n",
       " 1.1917965412139893,\n",
       " 1.192949891090393,\n",
       " 1.1955726146697998,\n",
       " 1.1968050003051758,\n",
       " 1.1967693567276,\n",
       " 1.198740839958191,\n",
       " 1.2002102136611938,\n",
       " 1.202385425567627,\n",
       " 1.2023135423660278,\n",
       " 1.2051643133163452,\n",
       " 1.2053391933441162,\n",
       " 1.210117220878601,\n",
       " 1.208602786064148,\n",
       " 1.2121789455413818,\n",
       " 1.212828278541565,\n",
       " 1.2145408391952515,\n",
       " 1.2188800573349,\n",
       " 1.2201091051101685,\n",
       " 1.2188117504119873,\n",
       " 1.2211368083953857,\n",
       " 1.2237454652786255,\n",
       " 1.225907802581787,\n",
       " 1.225117564201355,\n",
       " 1.2261143922805786,\n",
       " 1.2293877601623535,\n",
       " 1.2302082777023315,\n",
       " 1.2327741384506226,\n",
       " 1.2330251932144165,\n",
       " 1.2348604202270508,\n",
       " 1.239086389541626,\n",
       " 1.2376600503921509,\n",
       " 1.240138053894043,\n",
       " 1.2416644096374512,\n",
       " 1.2431185245513916,\n",
       " 1.2441424131393433,\n",
       " 1.2455759048461914,\n",
       " 1.2491496801376343,\n",
       " 1.2496224641799927,\n",
       " 1.2512544393539429,\n",
       " 1.2542108297348022,\n",
       " 1.2574397325515747]"
      ]
     },
     "execution_count": 112,
     "metadata": {},
     "output_type": "execute_result"
    }
   ],
   "source": [
    "val_loss"
   ]
  },
  {
   "cell_type": "code",
   "execution_count": 113,
   "metadata": {},
   "outputs": [
    {
     "data": {
      "text/plain": [
       "range(1, 101)"
      ]
     },
     "execution_count": 113,
     "metadata": {},
     "output_type": "execute_result"
    }
   ],
   "source": [
    "\n",
    "# range of X (no. of epochs)\n",
    "epochs = range(1, len(acc) + 1)\n",
    "epochs\n",
    "\n"
   ]
  },
  {
   "cell_type": "code",
   "execution_count": 130,
   "metadata": {},
   "outputs": [
    {
     "name": "stdout",
     "output_type": "stream",
     "text": [
      "7/7 [==============================] - 0s 6ms/step\n"
     ]
    }
   ],
   "source": [
    "from sklearn.metrics import confusion_matrix\n",
    "from sklearn.metrics import classification_report\n",
    "\n",
    "preds = model.predict(X_test) # see how the model did!\n",
    "\n"
   ]
  },
  {
   "cell_type": "code",
   "execution_count": 131,
   "metadata": {},
   "outputs": [
    {
     "name": "stdout",
     "output_type": "stream",
     "text": [
      "[[0.07019402 0.23786782 0.64677685 0.02832769 0.01683367]\n",
      " [0.02353662 0.6151607  0.22966893 0.00108934 0.13054438]\n",
      " [0.07779175 0.19116233 0.50134313 0.01277174 0.21693099]\n",
      " ...\n",
      " [0.1687172  0.44110325 0.16772674 0.1539542  0.06849862]\n",
      " [0.44153476 0.03676447 0.49908906 0.0207578  0.00185397]\n",
      " [0.68673855 0.03215686 0.12499909 0.15201494 0.00409061]]\n"
     ]
    }
   ],
   "source": [
    "print(preds) "
   ]
  },
  {
   "cell_type": "code",
   "execution_count": 132,
   "metadata": {},
   "outputs": [],
   "source": [
    "#preds2 = np.argmax(preds, axis=1)\n",
    "#preds2"
   ]
  },
  {
   "cell_type": "code",
   "execution_count": 133,
   "metadata": {},
   "outputs": [
    {
     "name": "stdout",
     "output_type": "stream",
     "text": [
      "1.0000001\n"
     ]
    }
   ],
   "source": [
    "print(np.sum(preds[0]))"
   ]
  },
  {
   "cell_type": "code",
   "execution_count": 136,
   "metadata": {},
   "outputs": [
    {
     "data": {
      "text/plain": [
       "array([[21,  1, 20,  3,  0],\n",
       "       [ 1, 16, 19,  0,  5],\n",
       "       [12, 19, 52,  1,  2],\n",
       "       [ 7,  1,  1,  1,  1],\n",
       "       [ 2,  7,  8,  0,  5]], dtype=int64)"
      ]
     },
     "execution_count": 136,
     "metadata": {},
     "output_type": "execute_result"
    }
   ],
   "source": [
    "# Almost a perfect prediction\n",
    "# actual is left, predicted is top\n",
    "# names can be found by inspecting Y\n",
    "matrix = confusion_matrix(y_test.argmax(axis=1), preds.argmax(axis=1))\n",
    "matrix"
   ]
  },
  {
   "cell_type": "code",
   "execution_count": 138,
   "metadata": {},
   "outputs": [
    {
     "name": "stdout",
     "output_type": "stream",
     "text": [
      "              precision    recall  f1-score   support\n",
      "\n",
      "           0       0.49      0.47      0.48        45\n",
      "           1       0.36      0.39      0.38        41\n",
      "           2       0.52      0.60      0.56        86\n",
      "           3       0.20      0.09      0.13        11\n",
      "           4       0.38      0.23      0.29        22\n",
      "\n",
      "    accuracy                           0.46       205\n",
      "   macro avg       0.39      0.36      0.36       205\n",
      "weighted avg       0.45      0.46      0.45       205\n",
      "\n"
     ]
    }
   ],
   "source": [
    "print(classification_report(y_test.argmax(axis=1), preds.argmax(axis=1)))"
   ]
  },
  {
   "cell_type": "markdown",
   "metadata": {},
   "source": [
    "combine \"very\" categories? 19.3.3"
   ]
  }
 ],
 "metadata": {
  "interpreter": {
   "hash": "fa643c3871e036b0eb6f679a9dba4097931b10046ffb48b434ec4b6bb7e19eba"
  },
  "kernelspec": {
   "display_name": "Python 3.7.11 ('mlenv')",
   "language": "python",
   "name": "python3"
  },
  "language_info": {
   "codemirror_mode": {
    "name": "ipython",
    "version": 3
   },
   "file_extension": ".py",
   "mimetype": "text/x-python",
   "name": "python",
   "nbconvert_exporter": "python",
   "pygments_lexer": "ipython3",
   "version": "3.7.11"
  },
  "orig_nbformat": 4
 },
 "nbformat": 4,
 "nbformat_minor": 2
}
