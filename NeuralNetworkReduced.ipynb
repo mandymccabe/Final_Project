{
 "cells": [
  {
   "cell_type": "code",
   "execution_count": 1,
   "metadata": {},
   "outputs": [],
   "source": [
    "# for reading data\n",
    "import pandas as pd\n",
    "import numpy as np\n",
    "from sklearn.preprocessing import LabelEncoder\n",
    "from keras.wrappers.scikit_learn import KerasClassifier\n",
    "from keras.utils import np_utils\n",
    "\n",
    "# for modeling\n",
    "from keras.models import Sequential\n",
    "from keras.layers import Dense, Dropout\n",
    "from keras.callbacks import EarlyStopping\n",
    "from sklearn.model_selection import train_test_split\n",
    "\n",
    "import plotly as plt\n",
    "\n"
   ]
  },
  {
   "cell_type": "markdown",
   "metadata": {},
   "source": [
    "example website\n",
    "https://medium.com/luca-chuangs-bapm-notes/build-a-neural-network-in-python-multi-class-classification-e940f74bd899"
   ]
  },
  {
   "cell_type": "code",
   "execution_count": 2,
   "metadata": {},
   "outputs": [],
   "source": [
    "#read in the data\n",
    "#take input from provisional database (csv)\n",
    "# Load the csv file from GitHub\n",
    "url = 'https://raw.githubusercontent.com/mandymccabe/Final_Project/janet_branch/Data/Final_Project_Full.csv'\n",
    "url2= 'https://raw.githubusercontent.com/mandymccabe/Final_Project/main/Resources/all_responses_coded.csv'\n",
    "df = pd.read_csv(url, index_col=0)\n",
    "df2 = pd.read_csv(url2, index_col=0)"
   ]
  },
  {
   "cell_type": "code",
   "execution_count": 3,
   "metadata": {},
   "outputs": [],
   "source": [
    "clean_df2= df2.drop(['A1','A2','A3','A4','A5','A21','StartDate','EndDate'], axis=1)"
   ]
  },
  {
   "cell_type": "code",
   "execution_count": 37,
   "metadata": {},
   "outputs": [
    {
     "data": {
      "text/html": [
       "<div>\n",
       "<style scoped>\n",
       "    .dataframe tbody tr th:only-of-type {\n",
       "        vertical-align: middle;\n",
       "    }\n",
       "\n",
       "    .dataframe tbody tr th {\n",
       "        vertical-align: top;\n",
       "    }\n",
       "\n",
       "    .dataframe thead th {\n",
       "        text-align: right;\n",
       "    }\n",
       "</style>\n",
       "<table border=\"1\" class=\"dataframe\">\n",
       "  <thead>\n",
       "    <tr style=\"text-align: right;\">\n",
       "      <th></th>\n",
       "      <th>political_views</th>\n",
       "    </tr>\n",
       "    <tr>\n",
       "      <th>respondentid</th>\n",
       "      <th></th>\n",
       "    </tr>\n",
       "  </thead>\n",
       "  <tbody>\n",
       "    <tr>\n",
       "      <th>6176264298</th>\n",
       "      <td>Moderate</td>\n",
       "    </tr>\n",
       "    <tr>\n",
       "      <th>6176263960</th>\n",
       "      <td>Moderate</td>\n",
       "    </tr>\n",
       "    <tr>\n",
       "      <th>6176258621</th>\n",
       "      <td>Liberal</td>\n",
       "    </tr>\n",
       "    <tr>\n",
       "      <th>6176257082</th>\n",
       "      <td>Liberal</td>\n",
       "    </tr>\n",
       "    <tr>\n",
       "      <th>6176256111</th>\n",
       "      <td>Liberal</td>\n",
       "    </tr>\n",
       "  </tbody>\n",
       "</table>\n",
       "</div>"
      ],
      "text/plain": [
       "             political_views\n",
       "respondentid                \n",
       "6176264298          Moderate\n",
       "6176263960          Moderate\n",
       "6176258621           Liberal\n",
       "6176257082           Liberal\n",
       "6176256111           Liberal"
      ]
     },
     "execution_count": 37,
     "metadata": {},
     "output_type": "execute_result"
    }
   ],
   "source": [
    "PoliticalViews = df.filter([\"political_views\"], axis=1)\n",
    "PoliticalViews.head()"
   ]
  },
  {
   "cell_type": "code",
   "execution_count": 36,
   "metadata": {},
   "outputs": [
    {
     "data": {
      "text/html": [
       "<div>\n",
       "<style scoped>\n",
       "    .dataframe tbody tr th:only-of-type {\n",
       "        vertical-align: middle;\n",
       "    }\n",
       "\n",
       "    .dataframe tbody tr th {\n",
       "        vertical-align: top;\n",
       "    }\n",
       "\n",
       "    .dataframe thead th {\n",
       "        text-align: right;\n",
       "    }\n",
       "</style>\n",
       "<table border=\"1\" class=\"dataframe\">\n",
       "  <thead>\n",
       "    <tr style=\"text-align: right;\">\n",
       "      <th></th>\n",
       "      <th>political_views</th>\n",
       "    </tr>\n",
       "    <tr>\n",
       "      <th>respondentid</th>\n",
       "      <th></th>\n",
       "    </tr>\n",
       "  </thead>\n",
       "  <tbody>\n",
       "    <tr>\n",
       "      <th>6176264298</th>\n",
       "      <td>Moderate</td>\n",
       "    </tr>\n",
       "    <tr>\n",
       "      <th>6176263960</th>\n",
       "      <td>Moderate</td>\n",
       "    </tr>\n",
       "    <tr>\n",
       "      <th>6176258621</th>\n",
       "      <td>Liberal</td>\n",
       "    </tr>\n",
       "    <tr>\n",
       "      <th>6176257082</th>\n",
       "      <td>Liberal</td>\n",
       "    </tr>\n",
       "    <tr>\n",
       "      <th>6176256111</th>\n",
       "      <td>Liberal</td>\n",
       "    </tr>\n",
       "  </tbody>\n",
       "</table>\n",
       "</div>"
      ],
      "text/plain": [
       "             political_views\n",
       "respondentid                \n",
       "6176264298          Moderate\n",
       "6176263960          Moderate\n",
       "6176258621           Liberal\n",
       "6176257082           Liberal\n",
       "6176256111           Liberal"
      ]
     },
     "execution_count": 36,
     "metadata": {},
     "output_type": "execute_result"
    }
   ],
   "source": [
    "PoliticalViews3 = PoliticalViews.replace(regex={r'Very Conservative': 'Conservative', 'Very Liberal': 'Liberal'})\n",
    "PoliticalViews3.head()"
   ]
  },
  {
   "cell_type": "code",
   "execution_count": 35,
   "metadata": {},
   "outputs": [
    {
     "data": {
      "text/html": [
       "<div>\n",
       "<style scoped>\n",
       "    .dataframe tbody tr th:only-of-type {\n",
       "        vertical-align: middle;\n",
       "    }\n",
       "\n",
       "    .dataframe tbody tr th {\n",
       "        vertical-align: top;\n",
       "    }\n",
       "\n",
       "    .dataframe thead th {\n",
       "        text-align: right;\n",
       "    }\n",
       "</style>\n",
       "<table border=\"1\" class=\"dataframe\">\n",
       "  <thead>\n",
       "    <tr style=\"text-align: right;\">\n",
       "      <th></th>\n",
       "      <th>RespondentID</th>\n",
       "      <th>A6</th>\n",
       "      <th>A7</th>\n",
       "      <th>A8</th>\n",
       "      <th>A9</th>\n",
       "      <th>A10</th>\n",
       "      <th>A11</th>\n",
       "      <th>A12</th>\n",
       "      <th>A13</th>\n",
       "      <th>A14</th>\n",
       "      <th>...</th>\n",
       "      <th>A54</th>\n",
       "      <th>A55</th>\n",
       "      <th>A56</th>\n",
       "      <th>A57</th>\n",
       "      <th>A58</th>\n",
       "      <th>A59</th>\n",
       "      <th>A60</th>\n",
       "      <th>A61</th>\n",
       "      <th>A62</th>\n",
       "      <th>political_views</th>\n",
       "    </tr>\n",
       "  </thead>\n",
       "  <tbody>\n",
       "    <tr>\n",
       "      <th>0</th>\n",
       "      <td>6176264298</td>\n",
       "      <td>0</td>\n",
       "      <td>1</td>\n",
       "      <td>0</td>\n",
       "      <td>0</td>\n",
       "      <td>1</td>\n",
       "      <td>0</td>\n",
       "      <td>1</td>\n",
       "      <td>0</td>\n",
       "      <td>0</td>\n",
       "      <td>...</td>\n",
       "      <td>0</td>\n",
       "      <td>0</td>\n",
       "      <td>0</td>\n",
       "      <td>1</td>\n",
       "      <td>0</td>\n",
       "      <td>0</td>\n",
       "      <td>0</td>\n",
       "      <td>0</td>\n",
       "      <td>0</td>\n",
       "      <td>Moderate</td>\n",
       "    </tr>\n",
       "    <tr>\n",
       "      <th>1</th>\n",
       "      <td>6176263960</td>\n",
       "      <td>0</td>\n",
       "      <td>1</td>\n",
       "      <td>0</td>\n",
       "      <td>0</td>\n",
       "      <td>1</td>\n",
       "      <td>0</td>\n",
       "      <td>0</td>\n",
       "      <td>0</td>\n",
       "      <td>0</td>\n",
       "      <td>...</td>\n",
       "      <td>0</td>\n",
       "      <td>0</td>\n",
       "      <td>0</td>\n",
       "      <td>0</td>\n",
       "      <td>0</td>\n",
       "      <td>0</td>\n",
       "      <td>1</td>\n",
       "      <td>0</td>\n",
       "      <td>0</td>\n",
       "      <td>Moderate</td>\n",
       "    </tr>\n",
       "    <tr>\n",
       "      <th>2</th>\n",
       "      <td>6176258621</td>\n",
       "      <td>0</td>\n",
       "      <td>1</td>\n",
       "      <td>0</td>\n",
       "      <td>0</td>\n",
       "      <td>1</td>\n",
       "      <td>0</td>\n",
       "      <td>0</td>\n",
       "      <td>1</td>\n",
       "      <td>0</td>\n",
       "      <td>...</td>\n",
       "      <td>0</td>\n",
       "      <td>0</td>\n",
       "      <td>0</td>\n",
       "      <td>0</td>\n",
       "      <td>0</td>\n",
       "      <td>0</td>\n",
       "      <td>1</td>\n",
       "      <td>0</td>\n",
       "      <td>0</td>\n",
       "      <td>Liberal</td>\n",
       "    </tr>\n",
       "    <tr>\n",
       "      <th>3</th>\n",
       "      <td>6176257082</td>\n",
       "      <td>0</td>\n",
       "      <td>1</td>\n",
       "      <td>0</td>\n",
       "      <td>0</td>\n",
       "      <td>0</td>\n",
       "      <td>0</td>\n",
       "      <td>0</td>\n",
       "      <td>1</td>\n",
       "      <td>0</td>\n",
       "      <td>...</td>\n",
       "      <td>0</td>\n",
       "      <td>1</td>\n",
       "      <td>0</td>\n",
       "      <td>1</td>\n",
       "      <td>0</td>\n",
       "      <td>0</td>\n",
       "      <td>0</td>\n",
       "      <td>0</td>\n",
       "      <td>0</td>\n",
       "      <td>Liberal</td>\n",
       "    </tr>\n",
       "    <tr>\n",
       "      <th>4</th>\n",
       "      <td>6176256111</td>\n",
       "      <td>0</td>\n",
       "      <td>1</td>\n",
       "      <td>0</td>\n",
       "      <td>0</td>\n",
       "      <td>1</td>\n",
       "      <td>1</td>\n",
       "      <td>1</td>\n",
       "      <td>0</td>\n",
       "      <td>0</td>\n",
       "      <td>...</td>\n",
       "      <td>0</td>\n",
       "      <td>0</td>\n",
       "      <td>1</td>\n",
       "      <td>1</td>\n",
       "      <td>0</td>\n",
       "      <td>0</td>\n",
       "      <td>0</td>\n",
       "      <td>0</td>\n",
       "      <td>0</td>\n",
       "      <td>Liberal</td>\n",
       "    </tr>\n",
       "  </tbody>\n",
       "</table>\n",
       "<p>5 rows × 58 columns</p>\n",
       "</div>"
      ],
      "text/plain": [
       "   RespondentID  A6  A7  A8  A9  A10  A11  A12  A13  A14  ...  A54  A55  A56  \\\n",
       "0    6176264298   0   1   0   0    1    0    1    0    0  ...    0    0    0   \n",
       "1    6176263960   0   1   0   0    1    0    0    0    0  ...    0    0    0   \n",
       "2    6176258621   0   1   0   0    1    0    0    1    0  ...    0    0    0   \n",
       "3    6176257082   0   1   0   0    0    0    0    1    0  ...    0    1    0   \n",
       "4    6176256111   0   1   0   0    1    1    1    0    0  ...    0    0    1   \n",
       "\n",
       "   A57  A58  A59  A60  A61  A62  political_views  \n",
       "0    1    0    0    0    0    0         Moderate  \n",
       "1    0    0    0    1    0    0         Moderate  \n",
       "2    0    0    0    1    0    0          Liberal  \n",
       "3    1    0    0    0    0    0          Liberal  \n",
       "4    1    0    0    0    0    0          Liberal  \n",
       "\n",
       "[5 rows x 58 columns]"
      ]
     },
     "execution_count": 35,
     "metadata": {},
     "output_type": "execute_result"
    }
   ],
   "source": [
    "merged_dfs = pd.merge(clean_df2, PoliticalViews3, how='outer', left_on=[\"RespondentID\"], right_on=['respondentid'])\n",
    "merged_dfs.head()"
   ]
  },
  {
   "cell_type": "code",
   "execution_count": 8,
   "metadata": {},
   "outputs": [
    {
     "name": "stdout",
     "output_type": "stream",
     "text": [
      "(1021, 56)\n",
      "(1021,)\n"
     ]
    }
   ],
   "source": [
    "# split into X and Y\n",
    "Y = merged_dfs['political_views']\n",
    "X = merged_dfs.drop(['political_views', 'RespondentID'], axis=1)\n",
    "\n",
    "print(X.shape)\n",
    "print(Y.shape)\n",
    "\n",
    "# convert to numpy arrays\n",
    "X = np.array(X)"
   ]
  },
  {
   "cell_type": "code",
   "execution_count": 34,
   "metadata": {},
   "outputs": [
    {
     "data": {
      "text/plain": [
       "0    Moderate\n",
       "1    Moderate\n",
       "2     Liberal\n",
       "3     Liberal\n",
       "4     Liberal\n",
       "Name: political_views, dtype: object"
      ]
     },
     "execution_count": 34,
     "metadata": {},
     "output_type": "execute_result"
    }
   ],
   "source": [
    "# show Y\n",
    "Y.head()"
   ]
  },
  {
   "cell_type": "code",
   "execution_count": 10,
   "metadata": {},
   "outputs": [],
   "source": [
    "# work with labels\n",
    "# encode class values as integers\n",
    "encoder = LabelEncoder()\n",
    "encoder.fit(Y)\n",
    "encoded_Y = encoder.transform(Y)\n",
    "# convert integers to dummy variables (i.e. one hot encoded)\n",
    "dummy_y = np_utils.to_categorical(encoded_Y)"
   ]
  },
  {
   "cell_type": "code",
   "execution_count": 11,
   "metadata": {},
   "outputs": [
    {
     "name": "stdout",
     "output_type": "stream",
     "text": [
      "[2 2 1 ... 2 2 2]\n"
     ]
    }
   ],
   "source": [
    "print(encoded_Y)"
   ]
  },
  {
   "cell_type": "code",
   "execution_count": 12,
   "metadata": {},
   "outputs": [
    {
     "name": "stdout",
     "output_type": "stream",
     "text": [
      "[[0. 0. 1.]\n",
      " [0. 0. 1.]\n",
      " [0. 1. 0.]\n",
      " ...\n",
      " [0. 0. 1.]\n",
      " [0. 0. 1.]\n",
      " [0. 0. 1.]]\n"
     ]
    }
   ],
   "source": [
    "print(dummy_y)"
   ]
  },
  {
   "cell_type": "code",
   "execution_count": 13,
   "metadata": {},
   "outputs": [],
   "source": [
    "#split into training and testing\n",
    "X_train, X_test, y_train, y_test = train_test_split(\n",
    "    X, dummy_y, random_state=3, train_size=0.80)"
   ]
  },
  {
   "cell_type": "code",
   "execution_count": 14,
   "metadata": {},
   "outputs": [],
   "source": [
    "number_inputs= len(X[0])\n",
    "hidden_nodes_1 = 8\n",
    "hidden_nodes_2 =8\n",
    "hidden_nodes_3=8\n"
   ]
  },
  {
   "cell_type": "code",
   "execution_count": 40,
   "metadata": {},
   "outputs": [
    {
     "name": "stdout",
     "output_type": "stream",
     "text": [
      "Model: \"sequential_4\"\n",
      "_________________________________________________________________\n",
      " Layer (type)                Output Shape              Param #   \n",
      "=================================================================\n",
      " dense_11 (Dense)            (None, 8)                 456       \n",
      "                                                                 \n",
      " dense_12 (Dense)            (None, 3)                 27        \n",
      "                                                                 \n",
      "=================================================================\n",
      "Total params: 483\n",
      "Trainable params: 483\n",
      "Non-trainable params: 0\n",
      "_________________________________________________________________\n"
     ]
    }
   ],
   "source": [
    "# build a model\n",
    "model = Sequential()\n",
    "model.add(Dense(units=hidden_nodes_1, activation='relu', input_dim= number_inputs))\n",
    "#model.add(Dense(units=hidden_nodes_2, activation='relu'))\n",
    "#model.add(Dense(units=hidden_nodes_3, activation='relu'))\n",
    "model.add(Dense(3, activation='softmax'))\n",
    "model.summary()"
   ]
  },
  {
   "cell_type": "code",
   "execution_count": 41,
   "metadata": {},
   "outputs": [],
   "source": [
    "# compile the model\n",
    "model.compile(optimizer='adam', \n",
    "              loss='categorical_crossentropy',\n",
    "              metrics=['accuracy'])"
   ]
  },
  {
   "cell_type": "code",
   "execution_count": 42,
   "metadata": {},
   "outputs": [],
   "source": [
    "import keras\n",
    "from keras.callbacks import EarlyStopping\n",
    "\n",
    "# early stopping callback\n",
    "# This callback will stop the training when there is no improvement in  \n",
    "# the validation loss for 10 consecutive epochs.  \n",
    "es = keras.callbacks.EarlyStopping(monitor='val_loss', \n",
    "                                   mode='min',\n",
    "                                   patience=10, \n",
    "                                   restore_best_weights=True) # important - otherwise you just return the last weigths...\n",
    "\n"
   ]
  },
  {
   "cell_type": "code",
   "execution_count": 43,
   "metadata": {},
   "outputs": [
    {
     "name": "stdout",
     "output_type": "stream",
     "text": [
      "Epoch 1/100\n",
      "66/66 [==============================] - 1s 7ms/step - loss: 1.0690 - accuracy: 0.4080 - val_loss: 1.0582 - val_accuracy: 0.4024\n",
      "Epoch 2/100\n",
      "66/66 [==============================] - 0s 4ms/step - loss: 1.0124 - accuracy: 0.4647 - val_loss: 1.0193 - val_accuracy: 0.4085\n",
      "Epoch 3/100\n",
      "66/66 [==============================] - 0s 4ms/step - loss: 0.9678 - accuracy: 0.5092 - val_loss: 0.9840 - val_accuracy: 0.4695\n",
      "Epoch 4/100\n",
      "66/66 [==============================] - 0s 5ms/step - loss: 0.9302 - accuracy: 0.5429 - val_loss: 0.9554 - val_accuracy: 0.5061\n",
      "Epoch 5/100\n",
      "66/66 [==============================] - 0s 4ms/step - loss: 0.8988 - accuracy: 0.5767 - val_loss: 0.9352 - val_accuracy: 0.5244\n",
      "Epoch 6/100\n",
      "66/66 [==============================] - 0s 5ms/step - loss: 0.8711 - accuracy: 0.5828 - val_loss: 0.9207 - val_accuracy: 0.5305\n",
      "Epoch 7/100\n",
      "66/66 [==============================] - 0s 5ms/step - loss: 0.8475 - accuracy: 0.5905 - val_loss: 0.9099 - val_accuracy: 0.4878\n",
      "Epoch 8/100\n",
      "66/66 [==============================] - 0s 5ms/step - loss: 0.8268 - accuracy: 0.5890 - val_loss: 0.8939 - val_accuracy: 0.5122\n",
      "Epoch 9/100\n",
      "66/66 [==============================] - 0s 4ms/step - loss: 0.8104 - accuracy: 0.6074 - val_loss: 0.8905 - val_accuracy: 0.5183\n",
      "Epoch 10/100\n",
      "66/66 [==============================] - 0s 4ms/step - loss: 0.7966 - accuracy: 0.6089 - val_loss: 0.8853 - val_accuracy: 0.4939\n",
      "Epoch 11/100\n",
      "66/66 [==============================] - 0s 5ms/step - loss: 0.7847 - accuracy: 0.6135 - val_loss: 0.8812 - val_accuracy: 0.5000\n",
      "Epoch 12/100\n",
      "66/66 [==============================] - 0s 5ms/step - loss: 0.7741 - accuracy: 0.6288 - val_loss: 0.8779 - val_accuracy: 0.5000\n",
      "Epoch 13/100\n",
      "66/66 [==============================] - 0s 4ms/step - loss: 0.7662 - accuracy: 0.6365 - val_loss: 0.8770 - val_accuracy: 0.5122\n",
      "Epoch 14/100\n",
      "66/66 [==============================] - 0s 3ms/step - loss: 0.7590 - accuracy: 0.6457 - val_loss: 0.8749 - val_accuracy: 0.5061\n",
      "Epoch 15/100\n",
      "66/66 [==============================] - 0s 4ms/step - loss: 0.7526 - accuracy: 0.6488 - val_loss: 0.8754 - val_accuracy: 0.5183\n",
      "Epoch 16/100\n",
      "66/66 [==============================] - 0s 5ms/step - loss: 0.7457 - accuracy: 0.6503 - val_loss: 0.8779 - val_accuracy: 0.5122\n",
      "Epoch 17/100\n",
      "66/66 [==============================] - 0s 5ms/step - loss: 0.7414 - accuracy: 0.6518 - val_loss: 0.8750 - val_accuracy: 0.5061\n",
      "Epoch 18/100\n",
      "66/66 [==============================] - 0s 3ms/step - loss: 0.7367 - accuracy: 0.6503 - val_loss: 0.8739 - val_accuracy: 0.5000\n",
      "Epoch 19/100\n",
      "66/66 [==============================] - 0s 4ms/step - loss: 0.7325 - accuracy: 0.6549 - val_loss: 0.8811 - val_accuracy: 0.5244\n",
      "Epoch 20/100\n",
      "66/66 [==============================] - 0s 4ms/step - loss: 0.7281 - accuracy: 0.6610 - val_loss: 0.8743 - val_accuracy: 0.5183\n",
      "Epoch 21/100\n",
      "66/66 [==============================] - 0s 4ms/step - loss: 0.7234 - accuracy: 0.6672 - val_loss: 0.8773 - val_accuracy: 0.5183\n",
      "Epoch 22/100\n",
      "66/66 [==============================] - 0s 3ms/step - loss: 0.7196 - accuracy: 0.6564 - val_loss: 0.8822 - val_accuracy: 0.5244\n",
      "Epoch 23/100\n",
      "66/66 [==============================] - 0s 3ms/step - loss: 0.7177 - accuracy: 0.6610 - val_loss: 0.8846 - val_accuracy: 0.5305\n",
      "Epoch 24/100\n",
      "66/66 [==============================] - 0s 4ms/step - loss: 0.7138 - accuracy: 0.6641 - val_loss: 0.8847 - val_accuracy: 0.5305\n",
      "Epoch 25/100\n",
      "66/66 [==============================] - 0s 4ms/step - loss: 0.7101 - accuracy: 0.6672 - val_loss: 0.8842 - val_accuracy: 0.5244\n",
      "Epoch 26/100\n",
      "66/66 [==============================] - 0s 4ms/step - loss: 0.7083 - accuracy: 0.6641 - val_loss: 0.8869 - val_accuracy: 0.5305\n",
      "Epoch 27/100\n",
      "66/66 [==============================] - 0s 4ms/step - loss: 0.7040 - accuracy: 0.6702 - val_loss: 0.8875 - val_accuracy: 0.5305\n",
      "Epoch 28/100\n",
      "66/66 [==============================] - 0s 4ms/step - loss: 0.7013 - accuracy: 0.6764 - val_loss: 0.8872 - val_accuracy: 0.5366\n"
     ]
    }
   ],
   "source": [
    "# now we just update our model fit call\n",
    "history = model.fit(X_train,\n",
    "                    y_train,\n",
    "                    epochs=100, \n",
    "                    verbose=1,\n",
    "                    callbacks=[es],\n",
    "                    batch_size=10,\n",
    "                    shuffle=True,\n",
    "                    validation_split=0.2)\n",
    "                    "
   ]
  },
  {
   "cell_type": "code",
   "execution_count": 44,
   "metadata": {},
   "outputs": [],
   "source": [
    "\n",
    "history_dict = history.history\n",
    "\n",
    "# learning curve\n",
    "# accuracy\n",
    "acc = history_dict['accuracy']\n",
    "val_acc = history_dict['val_accuracy']\n"
   ]
  },
  {
   "cell_type": "code",
   "execution_count": 45,
   "metadata": {},
   "outputs": [],
   "source": [
    "# loss\n",
    "loss = history_dict['loss']\n",
    "val_loss = history_dict['val_loss']\n"
   ]
  },
  {
   "cell_type": "code",
   "execution_count": 46,
   "metadata": {},
   "outputs": [
    {
     "data": {
      "text/plain": [
       "range(1, 29)"
      ]
     },
     "execution_count": 46,
     "metadata": {},
     "output_type": "execute_result"
    }
   ],
   "source": [
    "# range of X (no. of epochs)\n",
    "epochs = range(1, len(acc) + 1)\n",
    "epochs"
   ]
  },
  {
   "cell_type": "code",
   "execution_count": 47,
   "metadata": {},
   "outputs": [
    {
     "name": "stdout",
     "output_type": "stream",
     "text": [
      "7/7 [==============================] - 0s 2ms/step\n"
     ]
    }
   ],
   "source": [
    "from sklearn.metrics import confusion_matrix\n",
    "from sklearn.metrics import classification_report\n",
    "\n",
    "preds = model.predict(X_test) # see how the model did!\n"
   ]
  },
  {
   "cell_type": "code",
   "execution_count": 48,
   "metadata": {},
   "outputs": [
    {
     "name": "stdout",
     "output_type": "stream",
     "text": [
      "[[0.18725228 0.28526843 0.52747923]\n",
      " [0.01357383 0.75582945 0.23059669]\n",
      " [0.0373091  0.54346406 0.4192269 ]\n",
      " [0.2808528  0.32803568 0.3911115 ]\n",
      " [0.32277486 0.13760681 0.5396184 ]\n",
      " [0.3672458  0.17838435 0.45436984]\n",
      " [0.3281738  0.19514132 0.47668493]\n",
      " [0.5087459  0.13407119 0.35718295]\n",
      " [0.5634117  0.03529838 0.40128988]\n",
      " [0.01678196 0.6557025  0.32751557]\n",
      " [0.09033232 0.14346536 0.7662023 ]\n",
      " [0.04338523 0.36390415 0.5927106 ]\n",
      " [0.68433434 0.06903674 0.24662893]\n",
      " [0.01544584 0.7928865  0.19166772]\n",
      " [0.4006362  0.0940701  0.5052936 ]\n",
      " [0.4997635  0.07686107 0.42337546]\n",
      " [0.56860214 0.05708667 0.37431118]\n",
      " [0.579428   0.06344701 0.35712504]\n",
      " [0.1361297  0.3200514  0.54381883]\n",
      " [0.14722541 0.06786756 0.78490704]\n",
      " [0.05581466 0.4920402  0.4521452 ]\n",
      " [0.25220406 0.11214209 0.6356539 ]\n",
      " [0.20000313 0.23296282 0.56703407]\n",
      " [0.03632656 0.21576597 0.74790746]\n",
      " [0.07566327 0.5572878  0.36704886]\n",
      " [0.07694013 0.585649   0.33741093]\n",
      " [0.01715343 0.6552897  0.32755685]\n",
      " [0.54627216 0.07623711 0.37749073]\n",
      " [0.50369304 0.15200534 0.34430167]\n",
      " [0.20446748 0.37443691 0.42109567]\n",
      " [0.04413212 0.58181864 0.3740492 ]\n",
      " [0.5105612  0.10462216 0.38481662]\n",
      " [0.09455632 0.41871932 0.48672444]\n",
      " [0.00513128 0.7066954  0.28817332]\n",
      " [0.01599014 0.7440953  0.23991452]\n",
      " [0.5793854  0.0854921  0.33512247]\n",
      " [0.04352891 0.3145754  0.6418957 ]\n",
      " [0.07912838 0.53346467 0.387407  ]\n",
      " [0.06074975 0.40033343 0.53891677]\n",
      " [0.41486856 0.09651576 0.4886157 ]\n",
      " [0.02383237 0.63766265 0.33850497]\n",
      " [0.01712389 0.745579   0.23729712]\n",
      " [0.05276217 0.64770097 0.29953682]\n",
      " [0.0220824  0.7326814  0.24523611]\n",
      " [0.01141436 0.5435173  0.44506836]\n",
      " [0.08956212 0.45038807 0.4600498 ]\n",
      " [0.07790817 0.49817657 0.4239152 ]\n",
      " [0.60341686 0.06802697 0.32855624]\n",
      " [0.6446231  0.06539997 0.28997687]\n",
      " [0.12055033 0.3093266  0.57012314]\n",
      " [0.01532445 0.61245733 0.37221816]\n",
      " [0.01385125 0.7065107  0.27963808]\n",
      " [0.02516894 0.7470188  0.22781232]\n",
      " [0.07279496 0.63094103 0.29626402]\n",
      " [0.01658819 0.6503128  0.33309898]\n",
      " [0.5465325  0.1193191  0.33414844]\n",
      " [0.11810568 0.22548744 0.65640694]\n",
      " [0.78975517 0.01686781 0.19337702]\n",
      " [0.42271447 0.06038057 0.516905  ]\n",
      " [0.59923863 0.03756477 0.36319658]\n",
      " [0.01665425 0.764505   0.21884076]\n",
      " [0.04433268 0.48814672 0.46752062]\n",
      " [0.8244242  0.0275179  0.14805782]\n",
      " [0.2418377  0.10170505 0.65645725]\n",
      " [0.02197419 0.70663553 0.27139026]\n",
      " [0.02925773 0.61469126 0.35605103]\n",
      " [0.273385   0.2723312  0.45428377]\n",
      " [0.30130973 0.33066264 0.36802763]\n",
      " [0.06833547 0.588791   0.34287357]\n",
      " [0.36689797 0.06925238 0.5638497 ]\n",
      " [0.07737819 0.537953   0.38466877]\n",
      " [0.11177073 0.0868147  0.80141455]\n",
      " [0.22306009 0.08329516 0.69364476]\n",
      " [0.43166143 0.23737592 0.3309627 ]\n",
      " [0.39042473 0.23196317 0.37761214]\n",
      " [0.09830928 0.48204628 0.41964442]\n",
      " [0.1714252  0.45613846 0.37243634]\n",
      " [0.03966975 0.25207806 0.70825213]\n",
      " [0.16354324 0.4425989  0.3938579 ]\n",
      " [0.37109488 0.04971868 0.5791864 ]\n",
      " [0.14451317 0.14802769 0.70745915]\n",
      " [0.28708836 0.24800818 0.4649035 ]\n",
      " [0.06189025 0.3759649  0.5621448 ]\n",
      " [0.58718866 0.02868374 0.38412768]\n",
      " [0.247828   0.21535832 0.5368137 ]\n",
      " [0.79949355 0.03169055 0.1688159 ]\n",
      " [0.03843966 0.6641498  0.2974105 ]\n",
      " [0.70487    0.07739393 0.21773599]\n",
      " [0.00796479 0.62610424 0.36593094]\n",
      " [0.01055964 0.75590837 0.23353197]\n",
      " [0.39496213 0.09287132 0.51216656]\n",
      " [0.68832844 0.08495469 0.22671677]\n",
      " [0.2506506  0.03426558 0.7150838 ]\n",
      " [0.17662078 0.38719153 0.43618768]\n",
      " [0.47000057 0.04466425 0.48533523]\n",
      " [0.03289066 0.7093025  0.25780687]\n",
      " [0.5747533  0.04120042 0.38404632]\n",
      " [0.0497774  0.40579107 0.5444315 ]\n",
      " [0.45691648 0.09861129 0.4444722 ]\n",
      " [0.02155799 0.71875626 0.25968578]\n",
      " [0.13268945 0.5298622  0.33744836]\n",
      " [0.01814498 0.41425246 0.5676026 ]\n",
      " [0.13797818 0.4243454  0.43767637]\n",
      " [0.06282037 0.4248664  0.5123132 ]\n",
      " [0.18380557 0.37187937 0.44431508]\n",
      " [0.8058272  0.02872589 0.16544683]\n",
      " [0.70547056 0.04089057 0.2536388 ]\n",
      " [0.5271491  0.11572907 0.35712188]\n",
      " [0.05618387 0.5362171  0.40759903]\n",
      " [0.6759461  0.06394622 0.2601077 ]\n",
      " [0.28806084 0.0114357  0.7005035 ]\n",
      " [0.22990444 0.17569882 0.59439677]\n",
      " [0.37424755 0.17067385 0.4550785 ]\n",
      " [0.08238763 0.28334576 0.63426656]\n",
      " [0.13563503 0.03142746 0.83293754]\n",
      " [0.05566929 0.646817   0.29751372]\n",
      " [0.0240129  0.72403175 0.25195533]\n",
      " [0.5581383  0.11227067 0.32959104]\n",
      " [0.00648057 0.91252494 0.08099453]\n",
      " [0.02855282 0.67437106 0.29707614]\n",
      " [0.01223208 0.81272584 0.17504212]\n",
      " [0.17267159 0.36981782 0.45751065]\n",
      " [0.83563614 0.02357793 0.14078589]\n",
      " [0.02176893 0.8129134  0.16531761]\n",
      " [0.01281285 0.7737049  0.21348222]\n",
      " [0.7887678  0.06378099 0.1474512 ]\n",
      " [0.08910634 0.4722606  0.4386331 ]\n",
      " [0.7473015  0.0634794  0.18921912]\n",
      " [0.38562867 0.27493778 0.33943364]\n",
      " [0.12216882 0.4992986  0.37853253]\n",
      " [0.7385841  0.05549059 0.20592527]\n",
      " [0.32494026 0.06589492 0.60916483]\n",
      " [0.37222502 0.09955495 0.52822   ]\n",
      " [0.12493968 0.4802214  0.39483893]\n",
      " [0.62373614 0.03362469 0.3426392 ]\n",
      " [0.01773105 0.75995    0.22231902]\n",
      " [0.03948315 0.63398844 0.32652834]\n",
      " [0.83585256 0.02649041 0.13765705]\n",
      " [0.50015104 0.09162448 0.40822455]\n",
      " [0.00833824 0.8260401  0.1656217 ]\n",
      " [0.04616764 0.54884684 0.40498552]\n",
      " [0.05023513 0.576647   0.37311786]\n",
      " [0.02228631 0.82210493 0.15560886]\n",
      " [0.04474307 0.66385984 0.29139715]\n",
      " [0.5421257  0.07350271 0.38437158]\n",
      " [0.1300002  0.4282673  0.4417325 ]\n",
      " [0.567152   0.03933423 0.39351383]\n",
      " [0.45445976 0.08649976 0.4590405 ]\n",
      " [0.22268428 0.11984948 0.65746623]\n",
      " [0.02185068 0.76250523 0.21564406]\n",
      " [0.08395771 0.23607898 0.6799633 ]\n",
      " [0.69020057 0.06798098 0.24181849]\n",
      " [0.11639809 0.18614207 0.6974599 ]\n",
      " [0.7984048  0.04038678 0.16120838]\n",
      " [0.6825915  0.02491157 0.2924969 ]\n",
      " [0.04397888 0.6700099  0.2860112 ]\n",
      " [0.07491429 0.69324446 0.2318412 ]\n",
      " [0.8305952  0.02999811 0.13940673]\n",
      " [0.62582576 0.10564894 0.2685253 ]\n",
      " [0.8091504  0.0478035  0.14304613]\n",
      " [0.8191551  0.05392199 0.1269229 ]\n",
      " [0.7440204  0.01949257 0.23648703]\n",
      " [0.82770044 0.04996032 0.12233926]\n",
      " [0.11168467 0.3456815  0.5426339 ]\n",
      " [0.04224275 0.6575618  0.30019546]\n",
      " [0.8436753  0.01523985 0.14108482]\n",
      " [0.2113841  0.3404568  0.44815904]\n",
      " [0.0773651  0.556383   0.3662519 ]\n",
      " [0.01718379 0.62401634 0.35879987]\n",
      " [0.18343775 0.0467169  0.76984537]\n",
      " [0.05212409 0.48693    0.46094596]\n",
      " [0.8215076  0.03280333 0.14568907]\n",
      " [0.6964316  0.07905611 0.22451235]\n",
      " [0.07306103 0.3043555  0.6225834 ]\n",
      " [0.65396196 0.04699026 0.2990478 ]\n",
      " [0.44127452 0.09468539 0.4640401 ]\n",
      " [0.38723212 0.10365205 0.5091158 ]\n",
      " [0.03760793 0.48774198 0.47465006]\n",
      " [0.04097915 0.6190593  0.33996147]\n",
      " [0.0905656  0.14744501 0.7619894 ]\n",
      " [0.38591197 0.08601338 0.5280746 ]\n",
      " [0.57740337 0.12471359 0.29788303]\n",
      " [0.43101904 0.157185   0.41179594]\n",
      " [0.27132076 0.25031215 0.47836703]\n",
      " [0.01284907 0.76301944 0.22413154]\n",
      " [0.03480355 0.6241247  0.34107175]\n",
      " [0.03106805 0.6932468  0.27568513]\n",
      " [0.4818357  0.12844981 0.38971448]\n",
      " [0.00594483 0.61521167 0.37884346]\n",
      " [0.05046706 0.6463558  0.30317718]\n",
      " [0.517858   0.05034116 0.4318008 ]\n",
      " [0.6975892  0.05206419 0.25034666]\n",
      " [0.02588729 0.7320399  0.24207282]\n",
      " [0.06103172 0.57362103 0.3653472 ]\n",
      " [0.04473175 0.21849509 0.7367732 ]\n",
      " [0.10174226 0.09310623 0.8051515 ]\n",
      " [0.01504721 0.48260057 0.50235224]\n",
      " [0.27289534 0.08009581 0.64700884]\n",
      " [0.14696188 0.26907998 0.58395815]\n",
      " [0.27290985 0.05983546 0.6672547 ]\n",
      " [0.7619603  0.03223197 0.20580769]\n",
      " [0.85639846 0.02210209 0.12149941]\n",
      " [0.1523031  0.46806142 0.3796355 ]\n",
      " [0.51020116 0.05104814 0.43875068]\n",
      " [0.7443664  0.05008509 0.20554852]]\n"
     ]
    }
   ],
   "source": [
    "print(preds) "
   ]
  },
  {
   "cell_type": "code",
   "execution_count": 49,
   "metadata": {},
   "outputs": [
    {
     "data": {
      "text/plain": [
       "array([[41,  3, 12],\n",
       "       [ 1, 42, 20],\n",
       "       [19, 28, 39]], dtype=int64)"
      ]
     },
     "execution_count": 49,
     "metadata": {},
     "output_type": "execute_result"
    }
   ],
   "source": [
    "matrix = confusion_matrix(y_test.argmax(axis=1), preds.argmax(axis=1))\n",
    "matrix"
   ]
  },
  {
   "cell_type": "code",
   "execution_count": 50,
   "metadata": {},
   "outputs": [
    {
     "name": "stdout",
     "output_type": "stream",
     "text": [
      "              precision    recall  f1-score   support\n",
      "\n",
      "           0       0.67      0.73      0.70        56\n",
      "           1       0.58      0.67      0.62        63\n",
      "           2       0.55      0.45      0.50        86\n",
      "\n",
      "    accuracy                           0.60       205\n",
      "   macro avg       0.60      0.62      0.61       205\n",
      "weighted avg       0.59      0.60      0.59       205\n",
      "\n"
     ]
    }
   ],
   "source": [
    "print(classification_report(y_test.argmax(axis=1), preds.argmax(axis=1)))"
   ]
  }
 ],
 "metadata": {
  "interpreter": {
   "hash": "fa643c3871e036b0eb6f679a9dba4097931b10046ffb48b434ec4b6bb7e19eba"
  },
  "kernelspec": {
   "display_name": "Python 3.7.11 ('mlenv')",
   "language": "python",
   "name": "python3"
  },
  "language_info": {
   "codemirror_mode": {
    "name": "ipython",
    "version": 3
   },
   "file_extension": ".py",
   "mimetype": "text/x-python",
   "name": "python",
   "nbconvert_exporter": "python",
   "pygments_lexer": "ipython3",
   "version": "3.7.11"
  },
  "orig_nbformat": 4
 },
 "nbformat": 4,
 "nbformat_minor": 2
}
