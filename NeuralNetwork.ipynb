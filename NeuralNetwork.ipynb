{
 "cells": [
  {
   "cell_type": "code",
   "execution_count": 32,
   "metadata": {},
   "outputs": [],
   "source": [
    "# for reading data\n",
    "import pandas as pd\n",
    "import numpy as np\n",
    "from sklearn.preprocessing import LabelEncoder\n",
    "from keras.wrappers.scikit_learn import KerasClassifier\n",
    "from keras.utils import np_utils\n",
    "\n",
    "# for modeling\n",
    "from keras.models import Sequential\n",
    "from keras.layers import Dense, Dropout\n",
    "from keras.callbacks import EarlyStopping\n",
    "\n",
    "import plotly as plt\n",
    "\n"
   ]
  },
  {
   "cell_type": "code",
   "execution_count": null,
   "metadata": {},
   "outputs": [],
   "source": [
    "example website\n",
    "https://medium.com/luca-chuangs-bapm-notes/build-a-neural-network-in-python-multi-class-classification-e940f74bd899"
   ]
  },
  {
   "cell_type": "code",
   "execution_count": 3,
   "metadata": {},
   "outputs": [],
   "source": [
    "#read in the data\n",
    "#take input from provisional database (csv)\n",
    "# Load the csv file from GitHub\n",
    "url = 'https://raw.githubusercontent.com/mandymccabe/Final_Project/janet_branch/Data/Final_Project_Full.csv'\n",
    "url2= 'https://raw.githubusercontent.com/mandymccabe/Final_Project/main/Resources/all_responses_coded.csv'\n",
    "df = pd.read_csv(url, index_col=0)\n",
    "df2 = pd.read_csv(url2, index_col=0)"
   ]
  },
  {
   "cell_type": "code",
   "execution_count": 11,
   "metadata": {},
   "outputs": [],
   "source": [
    "clean_df2= df2.drop(['A1','A2','A3','A4','A5','A21','StartDate','EndDate'], axis=1)"
   ]
  },
  {
   "cell_type": "code",
   "execution_count": 9,
   "metadata": {},
   "outputs": [
    {
     "data": {
      "text/html": [
       "<div>\n",
       "<style scoped>\n",
       "    .dataframe tbody tr th:only-of-type {\n",
       "        vertical-align: middle;\n",
       "    }\n",
       "\n",
       "    .dataframe tbody tr th {\n",
       "        vertical-align: top;\n",
       "    }\n",
       "\n",
       "    .dataframe thead th {\n",
       "        text-align: right;\n",
       "    }\n",
       "</style>\n",
       "<table border=\"1\" class=\"dataframe\">\n",
       "  <thead>\n",
       "    <tr style=\"text-align: right;\">\n",
       "      <th></th>\n",
       "      <th>political_views</th>\n",
       "    </tr>\n",
       "    <tr>\n",
       "      <th>respondentid</th>\n",
       "      <th></th>\n",
       "    </tr>\n",
       "  </thead>\n",
       "  <tbody>\n",
       "    <tr>\n",
       "      <th>6176264298</th>\n",
       "      <td>Moderate</td>\n",
       "    </tr>\n",
       "    <tr>\n",
       "      <th>6176263960</th>\n",
       "      <td>Moderate</td>\n",
       "    </tr>\n",
       "    <tr>\n",
       "      <th>6176258621</th>\n",
       "      <td>Liberal</td>\n",
       "    </tr>\n",
       "    <tr>\n",
       "      <th>6176257082</th>\n",
       "      <td>Liberal</td>\n",
       "    </tr>\n",
       "    <tr>\n",
       "      <th>6176256111</th>\n",
       "      <td>Liberal</td>\n",
       "    </tr>\n",
       "  </tbody>\n",
       "</table>\n",
       "</div>"
      ],
      "text/plain": [
       "             political_views\n",
       "respondentid                \n",
       "6176264298          Moderate\n",
       "6176263960          Moderate\n",
       "6176258621           Liberal\n",
       "6176257082           Liberal\n",
       "6176256111           Liberal"
      ]
     },
     "execution_count": 9,
     "metadata": {},
     "output_type": "execute_result"
    }
   ],
   "source": [
    "PoliticalViews = df.filter([\"political_views\"], axis=1)\n",
    "PoliticalViews.head()"
   ]
  },
  {
   "cell_type": "code",
   "execution_count": 12,
   "metadata": {},
   "outputs": [
    {
     "data": {
      "text/html": [
       "<div>\n",
       "<style scoped>\n",
       "    .dataframe tbody tr th:only-of-type {\n",
       "        vertical-align: middle;\n",
       "    }\n",
       "\n",
       "    .dataframe tbody tr th {\n",
       "        vertical-align: top;\n",
       "    }\n",
       "\n",
       "    .dataframe thead th {\n",
       "        text-align: right;\n",
       "    }\n",
       "</style>\n",
       "<table border=\"1\" class=\"dataframe\">\n",
       "  <thead>\n",
       "    <tr style=\"text-align: right;\">\n",
       "      <th></th>\n",
       "      <th>RespondentID</th>\n",
       "      <th>A6</th>\n",
       "      <th>A7</th>\n",
       "      <th>A8</th>\n",
       "      <th>A9</th>\n",
       "      <th>A10</th>\n",
       "      <th>A11</th>\n",
       "      <th>A12</th>\n",
       "      <th>A13</th>\n",
       "      <th>A14</th>\n",
       "      <th>...</th>\n",
       "      <th>A54</th>\n",
       "      <th>A55</th>\n",
       "      <th>A56</th>\n",
       "      <th>A57</th>\n",
       "      <th>A58</th>\n",
       "      <th>A59</th>\n",
       "      <th>A60</th>\n",
       "      <th>A61</th>\n",
       "      <th>A62</th>\n",
       "      <th>political_views</th>\n",
       "    </tr>\n",
       "  </thead>\n",
       "  <tbody>\n",
       "    <tr>\n",
       "      <th>0</th>\n",
       "      <td>6176264298</td>\n",
       "      <td>0</td>\n",
       "      <td>1</td>\n",
       "      <td>0</td>\n",
       "      <td>0</td>\n",
       "      <td>1</td>\n",
       "      <td>0</td>\n",
       "      <td>1</td>\n",
       "      <td>0</td>\n",
       "      <td>0</td>\n",
       "      <td>...</td>\n",
       "      <td>0</td>\n",
       "      <td>0</td>\n",
       "      <td>0</td>\n",
       "      <td>1</td>\n",
       "      <td>0</td>\n",
       "      <td>0</td>\n",
       "      <td>0</td>\n",
       "      <td>0</td>\n",
       "      <td>0</td>\n",
       "      <td>Moderate</td>\n",
       "    </tr>\n",
       "    <tr>\n",
       "      <th>1</th>\n",
       "      <td>6176263960</td>\n",
       "      <td>0</td>\n",
       "      <td>1</td>\n",
       "      <td>0</td>\n",
       "      <td>0</td>\n",
       "      <td>1</td>\n",
       "      <td>0</td>\n",
       "      <td>0</td>\n",
       "      <td>0</td>\n",
       "      <td>0</td>\n",
       "      <td>...</td>\n",
       "      <td>0</td>\n",
       "      <td>0</td>\n",
       "      <td>0</td>\n",
       "      <td>0</td>\n",
       "      <td>0</td>\n",
       "      <td>0</td>\n",
       "      <td>1</td>\n",
       "      <td>0</td>\n",
       "      <td>0</td>\n",
       "      <td>Moderate</td>\n",
       "    </tr>\n",
       "    <tr>\n",
       "      <th>2</th>\n",
       "      <td>6176258621</td>\n",
       "      <td>0</td>\n",
       "      <td>1</td>\n",
       "      <td>0</td>\n",
       "      <td>0</td>\n",
       "      <td>1</td>\n",
       "      <td>0</td>\n",
       "      <td>0</td>\n",
       "      <td>1</td>\n",
       "      <td>0</td>\n",
       "      <td>...</td>\n",
       "      <td>0</td>\n",
       "      <td>0</td>\n",
       "      <td>0</td>\n",
       "      <td>0</td>\n",
       "      <td>0</td>\n",
       "      <td>0</td>\n",
       "      <td>1</td>\n",
       "      <td>0</td>\n",
       "      <td>0</td>\n",
       "      <td>Liberal</td>\n",
       "    </tr>\n",
       "    <tr>\n",
       "      <th>3</th>\n",
       "      <td>6176257082</td>\n",
       "      <td>0</td>\n",
       "      <td>1</td>\n",
       "      <td>0</td>\n",
       "      <td>0</td>\n",
       "      <td>0</td>\n",
       "      <td>0</td>\n",
       "      <td>0</td>\n",
       "      <td>1</td>\n",
       "      <td>0</td>\n",
       "      <td>...</td>\n",
       "      <td>0</td>\n",
       "      <td>1</td>\n",
       "      <td>0</td>\n",
       "      <td>1</td>\n",
       "      <td>0</td>\n",
       "      <td>0</td>\n",
       "      <td>0</td>\n",
       "      <td>0</td>\n",
       "      <td>0</td>\n",
       "      <td>Liberal</td>\n",
       "    </tr>\n",
       "    <tr>\n",
       "      <th>4</th>\n",
       "      <td>6176256111</td>\n",
       "      <td>0</td>\n",
       "      <td>1</td>\n",
       "      <td>0</td>\n",
       "      <td>0</td>\n",
       "      <td>1</td>\n",
       "      <td>1</td>\n",
       "      <td>1</td>\n",
       "      <td>0</td>\n",
       "      <td>0</td>\n",
       "      <td>...</td>\n",
       "      <td>0</td>\n",
       "      <td>0</td>\n",
       "      <td>1</td>\n",
       "      <td>1</td>\n",
       "      <td>0</td>\n",
       "      <td>0</td>\n",
       "      <td>0</td>\n",
       "      <td>0</td>\n",
       "      <td>0</td>\n",
       "      <td>Liberal</td>\n",
       "    </tr>\n",
       "  </tbody>\n",
       "</table>\n",
       "<p>5 rows × 58 columns</p>\n",
       "</div>"
      ],
      "text/plain": [
       "   RespondentID  A6  A7  A8  A9  A10  A11  A12  A13  A14  ...  A54  A55  A56  \\\n",
       "0    6176264298   0   1   0   0    1    0    1    0    0  ...    0    0    0   \n",
       "1    6176263960   0   1   0   0    1    0    0    0    0  ...    0    0    0   \n",
       "2    6176258621   0   1   0   0    1    0    0    1    0  ...    0    0    0   \n",
       "3    6176257082   0   1   0   0    0    0    0    1    0  ...    0    1    0   \n",
       "4    6176256111   0   1   0   0    1    1    1    0    0  ...    0    0    1   \n",
       "\n",
       "   A57  A58  A59  A60  A61  A62  political_views  \n",
       "0    1    0    0    0    0    0         Moderate  \n",
       "1    0    0    0    1    0    0         Moderate  \n",
       "2    0    0    0    1    0    0          Liberal  \n",
       "3    1    0    0    0    0    0          Liberal  \n",
       "4    1    0    0    0    0    0          Liberal  \n",
       "\n",
       "[5 rows x 58 columns]"
      ]
     },
     "execution_count": 12,
     "metadata": {},
     "output_type": "execute_result"
    }
   ],
   "source": [
    "merged_dfs = pd.merge(clean_df2, PoliticalViews, how='outer', left_on=[\"RespondentID\"], right_on=['respondentid'])\n",
    "merged_dfs.head()"
   ]
  },
  {
   "cell_type": "code",
   "execution_count": 14,
   "metadata": {},
   "outputs": [
    {
     "name": "stdout",
     "output_type": "stream",
     "text": [
      "(1021, 57)\n",
      "(1021,)\n"
     ]
    }
   ],
   "source": [
    "# split into X and Y\n",
    "Y = merged_dfs['political_views']\n",
    "X = merged_dfs.drop(['political_views'], axis=1)\n",
    "\n",
    "print(X.shape)\n",
    "print(Y.shape)\n",
    "\n",
    "# convert to numpy arrays\n",
    "X = np.array(X)"
   ]
  },
  {
   "cell_type": "code",
   "execution_count": 15,
   "metadata": {},
   "outputs": [
    {
     "data": {
      "text/plain": [
       "0    Moderate\n",
       "1    Moderate\n",
       "2     Liberal\n",
       "3     Liberal\n",
       "4     Liberal\n",
       "Name: political_views, dtype: object"
      ]
     },
     "execution_count": 15,
     "metadata": {},
     "output_type": "execute_result"
    }
   ],
   "source": [
    "# show Y\n",
    "Y.head()"
   ]
  },
  {
   "cell_type": "code",
   "execution_count": 16,
   "metadata": {},
   "outputs": [],
   "source": [
    "# work with labels\n",
    "# encode class values as integers\n",
    "encoder = LabelEncoder()\n",
    "encoder.fit(Y)\n",
    "encoded_Y = encoder.transform(Y)\n",
    "# convert integers to dummy variables (i.e. one hot encoded)\n",
    "dummy_y = np_utils.to_categorical(encoded_Y)\n"
   ]
  },
  {
   "cell_type": "code",
   "execution_count": 17,
   "metadata": {},
   "outputs": [
    {
     "name": "stdout",
     "output_type": "stream",
     "text": [
      "[2 2 1 ... 2 2 2]\n"
     ]
    }
   ],
   "source": [
    "print(encoded_Y)"
   ]
  },
  {
   "cell_type": "code",
   "execution_count": 18,
   "metadata": {},
   "outputs": [
    {
     "name": "stdout",
     "output_type": "stream",
     "text": [
      "[[0. 0. 1. 0. 0.]\n",
      " [0. 0. 1. 0. 0.]\n",
      " [0. 1. 0. 0. 0.]\n",
      " ...\n",
      " [0. 0. 1. 0. 0.]\n",
      " [0. 0. 1. 0. 0.]\n",
      " [0. 0. 1. 0. 0.]]\n"
     ]
    }
   ],
   "source": [
    "print(dummy_y)"
   ]
  },
  {
   "cell_type": "code",
   "execution_count": 26,
   "metadata": {},
   "outputs": [
    {
     "name": "stdout",
     "output_type": "stream",
     "text": [
      "Model: \"sequential_1\"\n",
      "_________________________________________________________________\n",
      " Layer (type)                Output Shape              Param #   \n",
      "=================================================================\n",
      " dense_2 (Dense)             (None, 16)                928       \n",
      "                                                                 \n",
      " dense_3 (Dense)             (None, 5)                 85        \n",
      "                                                                 \n",
      "=================================================================\n",
      "Total params: 1,013\n",
      "Trainable params: 1,013\n",
      "Non-trainable params: 0\n",
      "_________________________________________________________________\n"
     ]
    }
   ],
   "source": [
    "# build a model\n",
    "model = Sequential()\n",
    "model.add(Dense(16, input_shape=(X.shape[1],), activation='relu')) # input shape is (features,)\n",
    "model.add(Dense(5, activation='softmax'))\n",
    "model.summary()"
   ]
  },
  {
   "cell_type": "code",
   "execution_count": 27,
   "metadata": {},
   "outputs": [],
   "source": [
    "# compile the model\n",
    "model.compile(optimizer='rmsprop', \n",
    "              loss='categorical_crossentropy', # this is different instead of binary_crossentropy (for regular classification)\n",
    "              metrics=['accuracy'])"
   ]
  },
  {
   "cell_type": "code",
   "execution_count": 28,
   "metadata": {},
   "outputs": [],
   "source": [
    "import keras\n",
    "from keras.callbacks import EarlyStopping\n",
    "\n",
    "# early stopping callback\n",
    "# This callback will stop the training when there is no improvement in  \n",
    "# the validation loss for 10 consecutive epochs.  \n",
    "es = keras.callbacks.EarlyStopping(monitor='val_loss', \n",
    "                                   mode='min',\n",
    "                                   patience=10, \n",
    "                                   restore_best_weights=True) # important - otherwise you just return the last weigths...\n",
    "\n"
   ]
  },
  {
   "cell_type": "code",
   "execution_count": 30,
   "metadata": {},
   "outputs": [
    {
     "name": "stdout",
     "output_type": "stream",
     "text": [
      "Epoch 1/8000000\n",
      "82/82 [==============================] - 0s 4ms/step - loss: 14428249.0000 - accuracy: 0.2463 - val_loss: 6864615.0000 - val_accuracy: 0.1902\n",
      "Epoch 2/8000000\n",
      "82/82 [==============================] - 0s 2ms/step - loss: 3680687.0000 - accuracy: 0.2684 - val_loss: 655024.2500 - val_accuracy: 0.4293\n",
      "Epoch 3/8000000\n",
      "82/82 [==============================] - 0s 2ms/step - loss: 980481.8750 - accuracy: 0.2574 - val_loss: 494288.3125 - val_accuracy: 0.4293\n",
      "Epoch 4/8000000\n",
      "82/82 [==============================] - 0s 2ms/step - loss: 994571.7500 - accuracy: 0.2708 - val_loss: 1155320.1250 - val_accuracy: 0.1902\n",
      "Epoch 5/8000000\n",
      "82/82 [==============================] - 0s 2ms/step - loss: 941371.6250 - accuracy: 0.2819 - val_loss: 401958.0938 - val_accuracy: 0.1902\n",
      "Epoch 6/8000000\n",
      "82/82 [==============================] - 0s 3ms/step - loss: 972451.1875 - accuracy: 0.2623 - val_loss: 834067.1875 - val_accuracy: 0.4293\n",
      "Epoch 7/8000000\n",
      "82/82 [==============================] - 0s 2ms/step - loss: 892690.1875 - accuracy: 0.2696 - val_loss: 1678461.5000 - val_accuracy: 0.1902\n",
      "Epoch 8/8000000\n",
      "82/82 [==============================] - 0s 2ms/step - loss: 909846.6875 - accuracy: 0.2904 - val_loss: 468851.7500 - val_accuracy: 0.4293\n",
      "Epoch 9/8000000\n",
      "82/82 [==============================] - 0s 2ms/step - loss: 869063.0000 - accuracy: 0.2757 - val_loss: 1441701.6250 - val_accuracy: 0.2098\n",
      "Epoch 10/8000000\n",
      "82/82 [==============================] - 0s 2ms/step - loss: 892047.9375 - accuracy: 0.2880 - val_loss: 260189.6250 - val_accuracy: 0.2098\n",
      "Epoch 11/8000000\n",
      "82/82 [==============================] - 0s 2ms/step - loss: 868041.1250 - accuracy: 0.2463 - val_loss: 1503543.7500 - val_accuracy: 0.1902\n",
      "Epoch 12/8000000\n",
      "82/82 [==============================] - 0s 2ms/step - loss: 827997.2500 - accuracy: 0.2574 - val_loss: 1918658.3750 - val_accuracy: 0.1073\n",
      "Epoch 13/8000000\n",
      "82/82 [==============================] - 0s 2ms/step - loss: 824665.3125 - accuracy: 0.2525 - val_loss: 1036081.6875 - val_accuracy: 0.1902\n",
      "Epoch 14/8000000\n",
      "82/82 [==============================] - 0s 2ms/step - loss: 794480.1875 - accuracy: 0.2635 - val_loss: 1367514.1250 - val_accuracy: 0.1902\n",
      "Epoch 15/8000000\n",
      "82/82 [==============================] - 0s 2ms/step - loss: 784058.5625 - accuracy: 0.2623 - val_loss: 307728.8125 - val_accuracy: 0.2098\n",
      "Epoch 16/8000000\n",
      "82/82 [==============================] - 0s 2ms/step - loss: 792034.4375 - accuracy: 0.2475 - val_loss: 385074.9688 - val_accuracy: 0.1073\n",
      "Epoch 17/8000000\n",
      "82/82 [==============================] - 0s 3ms/step - loss: 786895.5000 - accuracy: 0.2696 - val_loss: 941168.2500 - val_accuracy: 0.4293\n",
      "Epoch 18/8000000\n",
      "82/82 [==============================] - 0s 2ms/step - loss: 759607.9375 - accuracy: 0.2733 - val_loss: 835881.1875 - val_accuracy: 0.0634\n",
      "Epoch 19/8000000\n",
      "82/82 [==============================] - 0s 2ms/step - loss: 757663.0000 - accuracy: 0.2561 - val_loss: 940327.0000 - val_accuracy: 0.4293\n",
      "Epoch 20/8000000\n",
      "82/82 [==============================] - 0s 3ms/step - loss: 728055.1250 - accuracy: 0.2586 - val_loss: 567675.2500 - val_accuracy: 0.4293\n"
     ]
    }
   ],
   "source": [
    "# now we just update our model fit call\n",
    "history = model.fit(X,\n",
    "                    dummy_y,\n",
    "                    callbacks=[es],\n",
    "                    epochs=8000000, # you can set this to a big number!\n",
    "                    batch_size=10,\n",
    "                    shuffle=True,\n",
    "                    validation_split=0.2,\n",
    "                    verbose=1\n",
    "                    )"
   ]
  },
  {
   "cell_type": "code",
   "execution_count": 35,
   "metadata": {},
   "outputs": [],
   "source": [
    "\n",
    "history_dict = history.history\n",
    "\n",
    "# learning curve\n",
    "# accuracy\n",
    "acc = history_dict['accuracy']\n",
    "val_acc = history_dict['val_accuracy']\n"
   ]
  },
  {
   "cell_type": "code",
   "execution_count": 36,
   "metadata": {},
   "outputs": [
    {
     "data": {
      "text/plain": [
       "[0.24632352590560913,\n",
       " 0.26838234066963196,\n",
       " 0.25735294818878174,\n",
       " 0.2708333432674408,\n",
       " 0.281862735748291,\n",
       " 0.26225489377975464,\n",
       " 0.2696078419685364,\n",
       " 0.2904411852359772,\n",
       " 0.2757352888584137,\n",
       " 0.28799018263816833,\n",
       " 0.24632352590560913,\n",
       " 0.25735294818878174,\n",
       " 0.25245097279548645,\n",
       " 0.26348039507865906,\n",
       " 0.26225489377975464,\n",
       " 0.24754901230335236,\n",
       " 0.2696078419685364,\n",
       " 0.27328431606292725,\n",
       " 0.2561274468898773,\n",
       " 0.25857841968536377]"
      ]
     },
     "execution_count": 36,
     "metadata": {},
     "output_type": "execute_result"
    }
   ],
   "source": [
    "acc"
   ]
  },
  {
   "cell_type": "code",
   "execution_count": 37,
   "metadata": {},
   "outputs": [
    {
     "data": {
      "text/plain": [
       "[0.1902438998222351,\n",
       " 0.4292683005332947,\n",
       " 0.4292683005332947,\n",
       " 0.1902438998222351,\n",
       " 0.1902438998222351,\n",
       " 0.4292683005332947,\n",
       " 0.1902438998222351,\n",
       " 0.4292683005332947,\n",
       " 0.20975609123706818,\n",
       " 0.20975609123706818,\n",
       " 0.1902438998222351,\n",
       " 0.10731707513332367,\n",
       " 0.1902438998222351,\n",
       " 0.1902438998222351,\n",
       " 0.20975609123706818,\n",
       " 0.10731707513332367,\n",
       " 0.4292683005332947,\n",
       " 0.06341463327407837,\n",
       " 0.4292683005332947,\n",
       " 0.4292683005332947]"
      ]
     },
     "execution_count": 37,
     "metadata": {},
     "output_type": "execute_result"
    }
   ],
   "source": [
    "val_acc"
   ]
  },
  {
   "cell_type": "code",
   "execution_count": 38,
   "metadata": {},
   "outputs": [],
   "source": [
    "# loss\n",
    "loss = history_dict['loss']\n",
    "val_loss = history_dict['val_loss']\n"
   ]
  },
  {
   "cell_type": "code",
   "execution_count": 39,
   "metadata": {},
   "outputs": [
    {
     "data": {
      "text/plain": [
       "[14428249.0,\n",
       " 3680687.0,\n",
       " 980481.875,\n",
       " 994571.75,\n",
       " 941371.625,\n",
       " 972451.1875,\n",
       " 892690.1875,\n",
       " 909846.6875,\n",
       " 869063.0,\n",
       " 892047.9375,\n",
       " 868041.125,\n",
       " 827997.25,\n",
       " 824665.3125,\n",
       " 794480.1875,\n",
       " 784058.5625,\n",
       " 792034.4375,\n",
       " 786895.5,\n",
       " 759607.9375,\n",
       " 757663.0,\n",
       " 728055.125]"
      ]
     },
     "execution_count": 39,
     "metadata": {},
     "output_type": "execute_result"
    }
   ],
   "source": [
    "loss"
   ]
  },
  {
   "cell_type": "code",
   "execution_count": 40,
   "metadata": {},
   "outputs": [
    {
     "data": {
      "text/plain": [
       "[6864615.0,\n",
       " 655024.25,\n",
       " 494288.3125,\n",
       " 1155320.125,\n",
       " 401958.09375,\n",
       " 834067.1875,\n",
       " 1678461.5,\n",
       " 468851.75,\n",
       " 1441701.625,\n",
       " 260189.625,\n",
       " 1503543.75,\n",
       " 1918658.375,\n",
       " 1036081.6875,\n",
       " 1367514.125,\n",
       " 307728.8125,\n",
       " 385074.96875,\n",
       " 941168.25,\n",
       " 835881.1875,\n",
       " 940327.0,\n",
       " 567675.25]"
      ]
     },
     "execution_count": 40,
     "metadata": {},
     "output_type": "execute_result"
    }
   ],
   "source": [
    "val_loss"
   ]
  },
  {
   "cell_type": "code",
   "execution_count": 43,
   "metadata": {},
   "outputs": [],
   "source": [
    "\n",
    "# range of X (no. of epochs)\n",
    "epochs = range(1, len(acc) + 1)\n",
    "\n"
   ]
  },
  {
   "cell_type": "code",
   "execution_count": 45,
   "metadata": {},
   "outputs": [
    {
     "name": "stdout",
     "output_type": "stream",
     "text": [
      "32/32 [==============================] - 0s 4ms/step\n"
     ]
    }
   ],
   "source": [
    "from sklearn.metrics import confusion_matrix\n",
    "from sklearn.metrics import classification_report\n",
    "\n",
    "preds = model.predict(X) # see how the model did!\n",
    "\n"
   ]
  },
  {
   "cell_type": "code",
   "execution_count": 46,
   "metadata": {},
   "outputs": [
    {
     "name": "stdout",
     "output_type": "stream",
     "text": [
      "[0. 1. 0. 0. 0.]\n"
     ]
    }
   ],
   "source": [
    "print(preds[0]) # i'm spreading that prediction across three nodes and they sum to 1"
   ]
  },
  {
   "cell_type": "code",
   "execution_count": 47,
   "metadata": {},
   "outputs": [
    {
     "name": "stdout",
     "output_type": "stream",
     "text": [
      "1.0\n"
     ]
    }
   ],
   "source": [
    "print(np.sum(preds[0]))"
   ]
  },
  {
   "cell_type": "code",
   "execution_count": 48,
   "metadata": {},
   "outputs": [
    {
     "data": {
      "text/plain": [
       "array([[  0, 215,   0,   0,   0],\n",
       "       [  0, 220,   0,   0,   0],\n",
       "       [  0, 420,   0,   0,   0],\n",
       "       [  0,  55,   0,   0,   0],\n",
       "       [  0, 111,   0,   0,   0]], dtype=int64)"
      ]
     },
     "execution_count": 48,
     "metadata": {},
     "output_type": "execute_result"
    }
   ],
   "source": [
    "# Almost a perfect prediction\n",
    "# actual is left, predicted is top\n",
    "# names can be found by inspecting Y\n",
    "matrix = confusion_matrix(dummy_y.argmax(axis=1), preds.argmax(axis=1))\n",
    "matrix"
   ]
  },
  {
   "cell_type": "code",
   "execution_count": 49,
   "metadata": {},
   "outputs": [
    {
     "name": "stdout",
     "output_type": "stream",
     "text": [
      "              precision    recall  f1-score   support\n",
      "\n",
      "           0       0.00      0.00      0.00       215\n",
      "           1       0.22      1.00      0.35       220\n",
      "           2       0.00      0.00      0.00       420\n",
      "           3       0.00      0.00      0.00        55\n",
      "           4       0.00      0.00      0.00       111\n",
      "\n",
      "    accuracy                           0.22      1021\n",
      "   macro avg       0.04      0.20      0.07      1021\n",
      "weighted avg       0.05      0.22      0.08      1021\n",
      "\n"
     ]
    },
    {
     "name": "stderr",
     "output_type": "stream",
     "text": [
      "c:\\Users\\m099875\\Anaconda3\\envs\\mlenv\\lib\\site-packages\\sklearn\\metrics\\_classification.py:1248: UndefinedMetricWarning: Precision and F-score are ill-defined and being set to 0.0 in labels with no predicted samples. Use `zero_division` parameter to control this behavior.\n",
      "  _warn_prf(average, modifier, msg_start, len(result))\n",
      "c:\\Users\\m099875\\Anaconda3\\envs\\mlenv\\lib\\site-packages\\sklearn\\metrics\\_classification.py:1248: UndefinedMetricWarning: Precision and F-score are ill-defined and being set to 0.0 in labels with no predicted samples. Use `zero_division` parameter to control this behavior.\n",
      "  _warn_prf(average, modifier, msg_start, len(result))\n",
      "c:\\Users\\m099875\\Anaconda3\\envs\\mlenv\\lib\\site-packages\\sklearn\\metrics\\_classification.py:1248: UndefinedMetricWarning: Precision and F-score are ill-defined and being set to 0.0 in labels with no predicted samples. Use `zero_division` parameter to control this behavior.\n",
      "  _warn_prf(average, modifier, msg_start, len(result))\n"
     ]
    }
   ],
   "source": [
    "print(classification_report(dummy_y.argmax(axis=1), preds.argmax(axis=1)))"
   ]
  }
 ],
 "metadata": {
  "interpreter": {
   "hash": "fa643c3871e036b0eb6f679a9dba4097931b10046ffb48b434ec4b6bb7e19eba"
  },
  "kernelspec": {
   "display_name": "Python 3.7.11 ('mlenv')",
   "language": "python",
   "name": "python3"
  },
  "language_info": {
   "codemirror_mode": {
    "name": "ipython",
    "version": 3
   },
   "file_extension": ".py",
   "mimetype": "text/x-python",
   "name": "python",
   "nbconvert_exporter": "python",
   "pygments_lexer": "ipython3",
   "version": "3.7.11"
  },
  "orig_nbformat": 4
 },
 "nbformat": 4,
 "nbformat_minor": 2
}
